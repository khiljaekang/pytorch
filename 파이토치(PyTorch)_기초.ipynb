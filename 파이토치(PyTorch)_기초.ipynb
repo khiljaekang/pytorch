{
  "nbformat": 4,
  "nbformat_minor": 0,
  "metadata": {
    "colab": {
      "name": " 파이토치(PyTorch) 기초.ipynb",
      "provenance": [],
      "collapsed_sections": [],
      "include_colab_link": true
    },
    "kernelspec": {
      "name": "python3",
      "display_name": "Python 3"
    },
    "accelerator": "GPU"
  },
  "cells": [
    {
      "cell_type": "markdown",
      "metadata": {
        "id": "view-in-github",
        "colab_type": "text"
      },
      "source": [
        "<a href=\"https://colab.research.google.com/github/khiljaekang/pytorch/blob/main/%ED%8C%8C%EC%9D%B4%ED%86%A0%EC%B9%98(PyTorch)_%EA%B8%B0%EC%B4%88.ipynb\" target=\"_parent\"><img src=\"https://colab.research.google.com/assets/colab-badge.svg\" alt=\"Open In Colab\"/></a>"
      ]
    },
    {
      "cell_type": "markdown",
      "metadata": {
        "id": "f9Xx-jP92OgP"
      },
      "source": [
        "# 파이토치(PyTorch)\n",
        "\n",
        "<img src=\"https://img1.daumcdn.net/thumb/R800x0/?scode=mtistory2&fname=https%3A%2F%2Fblog.kakaocdn.net%2Fdn%2FbuUgoV%2FbtqwWZvcHHX%2Fd6XzIFBEfiuFb0UvyV4A50%2Fimg.jpg\" width=\"300\">\n",
        "\n",
        "- 코드 출처: https://pytorch.org/tutorials/"
      ]
    },
    {
      "cell_type": "markdown",
      "metadata": {
        "id": "3cxreguz2sL0"
      },
      "source": [
        "## 파이토치의 구성요소\n",
        "\n",
        "- `torch`: 텐서를 생성하는 라이브러리\n",
        "\n",
        "- `torch.autograd`: 자동미분 기능을 제공하는 라이브러리\n",
        "\n",
        "- `torch.nn`: 신경망을 생성하는 라이브러리\n",
        "\n",
        "- `torch.multiprocessing`: 병럴처리 기능을 제공하는 라이브러리\n",
        "\n",
        "- `torch.utils`: 데이터 조작 등 유틸리티 기능 제공\n",
        "\n",
        "- `torch.legacy`(./nn/.optim): Torch로부터 포팅해온 코드\n",
        "\n",
        "- `torch.onnx`: ONNX(Open Neural Network Exchange)\n",
        "\n",
        "  - 서로 다른 프레임워크 간의 모델을 공유할 때 사용"
      ]
    },
    {
      "cell_type": "markdown",
      "metadata": {
        "id": "gb5O_aSvtHvb"
      },
      "source": [
        "## 텐서(Tensors)\n",
        "- 넘파이(NumPy)의 ndarray와 유사\n",
        "\n",
        "- GPU를 사용한 연산 가속도 가능"
      ]
    },
    {
      "cell_type": "code",
      "metadata": {
        "id": "CmKIvnx0s8G6"
      },
      "source": [
        "import torch"
      ],
      "execution_count": null,
      "outputs": []
    },
    {
      "cell_type": "code",
      "metadata": {
        "id": "49IHV-qJE5FI",
        "colab": {
          "base_uri": "https://localhost:8080/",
          "height": 35
        },
        "outputId": "59f92450-615e-4da6-b772-5c1f2220d0ad"
      },
      "source": [
        "torch.__version__"
      ],
      "execution_count": null,
      "outputs": [
        {
          "output_type": "execute_result",
          "data": {
            "application/vnd.google.colaboratory.intrinsic+json": {
              "type": "string"
            },
            "text/plain": [
              "'1.8.1+cu101'"
            ]
          },
          "metadata": {
            "tags": []
          },
          "execution_count": 2
        }
      ]
    },
    {
      "cell_type": "markdown",
      "metadata": {
        "id": "isUHVy-gtZeT"
      },
      "source": [
        "### 초기화 되지 않은 행렬 "
      ]
    },
    {
      "cell_type": "code",
      "metadata": {
        "id": "3PqY3cZatU0D",
        "colab": {
          "base_uri": "https://localhost:8080/"
        },
        "outputId": "3eaacf18-ac30-4368-ced9-b33b1b83ca30"
      },
      "source": [
        "x = torch.empty(4, 2) \n",
        "print(x) "
      ],
      "execution_count": null,
      "outputs": [
        {
          "output_type": "stream",
          "text": [
            "tensor([[-1.2704e+04,  3.0886e-41],\n",
            "        [ 3.3631e-44,  0.0000e+00],\n",
            "        [        nan,  6.4460e-44],\n",
            "        [ 1.1578e+27,  1.1362e+30]])\n"
          ],
          "name": "stdout"
        }
      ]
    },
    {
      "cell_type": "markdown",
      "metadata": {
        "id": "zPCIJ2pNteZv"
      },
      "source": [
        "### 무작위로 초기화된 행렬"
      ]
    },
    {
      "cell_type": "code",
      "metadata": {
        "id": "h6oPj2Q9tdYx",
        "colab": {
          "base_uri": "https://localhost:8080/"
        },
        "outputId": "434838e6-6303-4ada-c6a3-ee6063967a5a"
      },
      "source": [
        "x = torch.rand(4,2) #ranmdom\n",
        "print(x)"
      ],
      "execution_count": null,
      "outputs": [
        {
          "output_type": "stream",
          "text": [
            "tensor([[0.8101, 0.9725],\n",
            "        [0.2157, 0.5681],\n",
            "        [0.5014, 0.5009],\n",
            "        [0.8051, 0.6306]])\n"
          ],
          "name": "stdout"
        }
      ]
    },
    {
      "cell_type": "markdown",
      "metadata": {
        "id": "A5aHphIHtiJk"
      },
      "source": [
        "### dtype이 long, 0으로 채워진 텐서"
      ]
    },
    {
      "cell_type": "code",
      "metadata": {
        "id": "4zykN8aMthXk",
        "colab": {
          "base_uri": "https://localhost:8080/"
        },
        "outputId": "c2dd4044-ac8f-48e7-fda1-1b7c6b3a23bf"
      },
      "source": [
        "x = torch.zeros(4, 2, dtype=torch.long)\n",
        "print(x)"
      ],
      "execution_count": null,
      "outputs": [
        {
          "output_type": "stream",
          "text": [
            "tensor([[0, 0],\n",
            "        [0, 0],\n",
            "        [0, 0],\n",
            "        [0, 0]])\n"
          ],
          "name": "stdout"
        }
      ]
    },
    {
      "cell_type": "code",
      "metadata": {
        "id": "W4VL8C_ctu8b",
        "colab": {
          "base_uri": "https://localhost:8080/"
        },
        "outputId": "11fedfc7-32a5-4e9e-8968-564df3306a66"
      },
      "source": [
        "x = torch.tensor([3, 2.3])\n",
        "print(x)"
      ],
      "execution_count": null,
      "outputs": [
        {
          "output_type": "stream",
          "text": [
            "tensor([3.0000, 2.3000])\n"
          ],
          "name": "stdout"
        }
      ]
    },
    {
      "cell_type": "code",
      "metadata": {
        "id": "4RmVBVtIt46M",
        "colab": {
          "base_uri": "https://localhost:8080/"
        },
        "outputId": "f50677a2-8e48-494c-ef9f-9307afb47133"
      },
      "source": [
        "x = x.new_ones(2, 4, dtype=torch.double)\n",
        "print(x)"
      ],
      "execution_count": null,
      "outputs": [
        {
          "output_type": "stream",
          "text": [
            "tensor([[1., 1., 1., 1.],\n",
            "        [1., 1., 1., 1.]], dtype=torch.float64)\n"
          ],
          "name": "stdout"
        }
      ]
    },
    {
      "cell_type": "code",
      "metadata": {
        "id": "xxskTUfGuPUe",
        "colab": {
          "base_uri": "https://localhost:8080/"
        },
        "outputId": "1a45b2ec-3bdd-4905-e55d-0705dd38abca"
      },
      "source": [
        "x = torch.randn_like(x, dtype=torch.float)\n",
        "print(x)"
      ],
      "execution_count": null,
      "outputs": [
        {
          "output_type": "stream",
          "text": [
            "tensor([[-5.0671e-01,  5.8043e-01,  1.9077e-03,  1.5497e+00],\n",
            "        [ 2.0247e+00, -1.3369e-01,  3.9083e-01,  2.5241e-02]])\n"
          ],
          "name": "stdout"
        }
      ]
    },
    {
      "cell_type": "markdown",
      "metadata": {
        "id": "7j5sGxGvucpH"
      },
      "source": [
        "### 텐서의 크기"
      ]
    },
    {
      "cell_type": "code",
      "metadata": {
        "id": "yy-JbqKEuYIR",
        "colab": {
          "base_uri": "https://localhost:8080/"
        },
        "outputId": "beceb6a0-2875-47a3-bbd2-748c35ecea92"
      },
      "source": [
        "print(x.size())"
      ],
      "execution_count": null,
      "outputs": [
        {
          "output_type": "stream",
          "text": [
            "torch.Size([2, 4])\n"
          ],
          "name": "stdout"
        }
      ]
    },
    {
      "cell_type": "markdown",
      "metadata": {
        "id": "ehOg0eDwufru"
      },
      "source": [
        "## 텐서의 연산(operations)"
      ]
    },
    {
      "cell_type": "markdown",
      "metadata": {
        "id": "j8Doc_37uh3G"
      },
      "source": [
        "### 덧셈 1"
      ]
    },
    {
      "cell_type": "code",
      "metadata": {
        "id": "Rw4JCYkYuef9",
        "colab": {
          "base_uri": "https://localhost:8080/"
        },
        "outputId": "4a3825a8-004f-4c90-e1e5-6908d3f63a0f"
      },
      "source": [
        "print(x)"
      ],
      "execution_count": null,
      "outputs": [
        {
          "output_type": "stream",
          "text": [
            "tensor([[-5.0671e-01,  5.8043e-01,  1.9077e-03,  1.5497e+00],\n",
            "        [ 2.0247e+00, -1.3369e-01,  3.9083e-01,  2.5241e-02]])\n"
          ],
          "name": "stdout"
        }
      ]
    },
    {
      "cell_type": "code",
      "metadata": {
        "id": "Wa44ur1Nuj5U",
        "colab": {
          "base_uri": "https://localhost:8080/"
        },
        "outputId": "4fb24eb2-c8cf-4115-a035-40a9d7750566"
      },
      "source": [
        "y = torch.rand(2,4)\n",
        "print(y)\n",
        "print(x+y)"
      ],
      "execution_count": null,
      "outputs": [
        {
          "output_type": "stream",
          "text": [
            "tensor([[0.8527, 0.2647, 0.3390, 0.4945],\n",
            "        [0.4149, 0.9161, 0.0322, 0.2533]])\n",
            "tensor([[0.3460, 0.8451, 0.3409, 2.0442],\n",
            "        [2.4396, 0.7824, 0.4231, 0.2786]])\n"
          ],
          "name": "stdout"
        }
      ]
    },
    {
      "cell_type": "markdown",
      "metadata": {
        "id": "E5gcOo-Ouo9B"
      },
      "source": [
        "### 덧셈2"
      ]
    },
    {
      "cell_type": "code",
      "metadata": {
        "id": "Qx-NzJhhumZx",
        "colab": {
          "base_uri": "https://localhost:8080/"
        },
        "outputId": "fad77493-55ee-4bda-c48b-3d50dba985c5"
      },
      "source": [
        "print(torch.add(x, y))"
      ],
      "execution_count": null,
      "outputs": [
        {
          "output_type": "stream",
          "text": [
            "tensor([[0.3460, 0.8451, 0.3409, 2.0442],\n",
            "        [2.4396, 0.7824, 0.4231, 0.2786]])\n"
          ],
          "name": "stdout"
        }
      ]
    },
    {
      "cell_type": "markdown",
      "metadata": {
        "id": "RlvrQhLuuuIr"
      },
      "source": [
        "### 덧셈3\n",
        "- 결과 텐서를 인자로 제공"
      ]
    },
    {
      "cell_type": "code",
      "metadata": {
        "id": "lUsLAOTcur1-",
        "colab": {
          "base_uri": "https://localhost:8080/"
        },
        "outputId": "d2efbec8-70ac-49c2-9dac-2c7b0a454f7d"
      },
      "source": [
        "result = torch.empty(2, 4)\n",
        "torch.add(x, y, out=result)\n",
        "print(result)"
      ],
      "execution_count": null,
      "outputs": [
        {
          "output_type": "stream",
          "text": [
            "tensor([[0.3460, 0.8451, 0.3409, 2.0442],\n",
            "        [2.4396, 0.7824, 0.4231, 0.2786]])\n"
          ],
          "name": "stdout"
        }
      ]
    },
    {
      "cell_type": "markdown",
      "metadata": {
        "id": "V6BdyZFSu2Ei"
      },
      "source": [
        "### 덧셈4\n",
        "- `in-place` 방식\n",
        "\n",
        "- (참고) in-place 방식\n",
        "  - in-place방식으로 텐서의 값을 변경하는 연산 뒤에는 _''가 붙음\n",
        "  - `x.copy_(y), x.t_()`"
      ]
    },
    {
      "cell_type": "code",
      "metadata": {
        "id": "lu8rR4WVu0wQ",
        "colab": {
          "base_uri": "https://localhost:8080/"
        },
        "outputId": "cf4a55d3-6916-4774-8f38-c04cc85144c3"
      },
      "source": [
        "print(x)\n",
        "print(y)\n",
        "y.add_(x)\n",
        "print(y)"
      ],
      "execution_count": null,
      "outputs": [
        {
          "output_type": "stream",
          "text": [
            "tensor([[-5.0671e-01,  5.8043e-01,  1.9077e-03,  1.5497e+00],\n",
            "        [ 2.0247e+00, -1.3369e-01,  3.9083e-01,  2.5241e-02]])\n",
            "tensor([[0.8527, 0.2647, 0.3390, 0.4945],\n",
            "        [0.4149, 0.9161, 0.0322, 0.2533]])\n",
            "tensor([[0.3460, 0.8451, 0.3409, 2.0442],\n",
            "        [2.4396, 0.7824, 0.4231, 0.2786]])\n"
          ],
          "name": "stdout"
        }
      ]
    },
    {
      "cell_type": "markdown",
      "metadata": {
        "id": "Uo8nsrGjOw6W"
      },
      "source": [
        "### 그 외의 연산\n",
        "- `torch.sub` : 뺄셈\n",
        "\n",
        "- `torch.mul` : 곱셉\n",
        "\n",
        "- `torch.div` : 나눗셈\n",
        "\n",
        "- `torch.mm` : 내적(dot product)"
      ]
    },
    {
      "cell_type": "code",
      "metadata": {
        "id": "S51kxzPTO1ER",
        "colab": {
          "base_uri": "https://localhost:8080/"
        },
        "outputId": "1de8c60d-3f0b-4cb6-c615-8d857fbd110b"
      },
      "source": [
        "x = torch.tensor([[1, 3],\n",
        "                  [5, 7]])\n",
        "y= torch.tensor([[2, 4],\n",
        "                 [6, 8]])\n",
        "print(x-y)\n",
        "print(torch.sub(x, y))\n",
        "print(x.sub(y))"
      ],
      "execution_count": null,
      "outputs": [
        {
          "output_type": "stream",
          "text": [
            "tensor([[-1, -1],\n",
            "        [-1, -1]])\n",
            "tensor([[-1, -1],\n",
            "        [-1, -1]])\n",
            "tensor([[-1, -1],\n",
            "        [-1, -1]])\n"
          ],
          "name": "stdout"
        }
      ]
    },
    {
      "cell_type": "code",
      "metadata": {
        "id": "ou0dY8mkPR24",
        "colab": {
          "base_uri": "https://localhost:8080/"
        },
        "outputId": "3933056d-3688-405e-bb6e-8fe0866ec8ba"
      },
      "source": [
        "x = torch.tensor([[1,3],\n",
        "                  [5,7]])\n",
        "y= torch.tensor([[2, 4],\n",
        "                 [6, 8]])\n",
        "print(x-y)\n",
        "print(torch.mul(x, y))\n",
        "print(x.mul(y))"
      ],
      "execution_count": null,
      "outputs": [
        {
          "output_type": "stream",
          "text": [
            "tensor([[-1, -1],\n",
            "        [-1, -1]])\n",
            "tensor([[ 2, 12],\n",
            "        [30, 56]])\n",
            "tensor([[ 2, 12],\n",
            "        [30, 56]])\n"
          ],
          "name": "stdout"
        }
      ]
    },
    {
      "cell_type": "code",
      "metadata": {
        "id": "6RlZZBp3PbE4",
        "colab": {
          "base_uri": "https://localhost:8080/"
        },
        "outputId": "0f2e2b85-47e6-43d5-8973-92cc5f6ee8cf"
      },
      "source": [
        "x = torch.tensor([[1,3],\n",
        "                  [5,7]])\n",
        "y= torch.tensor([[2, 4],\n",
        "                 [6, 8]])\n",
        "print(x-y)\n",
        "print(torch.div(x, y))\n",
        "print(x.div(y))"
      ],
      "execution_count": null,
      "outputs": [
        {
          "output_type": "stream",
          "text": [
            "tensor([[-1, -1],\n",
            "        [-1, -1]])\n",
            "tensor([[0.5000, 0.7500],\n",
            "        [0.8333, 0.8750]])\n",
            "tensor([[0.5000, 0.7500],\n",
            "        [0.8333, 0.8750]])\n"
          ],
          "name": "stdout"
        }
      ]
    },
    {
      "cell_type": "code",
      "metadata": {
        "id": "7MR-ofE5P7VC",
        "colab": {
          "base_uri": "https://localhost:8080/"
        },
        "outputId": "2c8d5c35-9352-4fb5-d8f4-8859ad921fad"
      },
      "source": [
        "x = torch.tensor([[1,3],\n",
        "                  [5,7]])\n",
        "y= torch.tensor([[2, 4],\n",
        "                 [6, 8]])\n",
        "print(torch.mm(x,y))  #행렬 곱 연산"
      ],
      "execution_count": null,
      "outputs": [
        {
          "output_type": "stream",
          "text": [
            "tensor([[20, 28],\n",
            "        [52, 76]])\n"
          ],
          "name": "stdout"
        }
      ]
    },
    {
      "cell_type": "markdown",
      "metadata": {
        "id": "8URGwHE_NjDi"
      },
      "source": [
        "## 텐서의 조작(manipulations)"
      ]
    },
    {
      "cell_type": "markdown",
      "metadata": {
        "id": "uCsdZIPTvG53"
      },
      "source": [
        "### 인덱싱\n",
        "- 넘파이처럼 인덱싱 사용가능"
      ]
    },
    {
      "cell_type": "code",
      "metadata": {
        "id": "jF2DE8kzvOs3",
        "colab": {
          "base_uri": "https://localhost:8080/"
        },
        "outputId": "0f76f7d7-ed99-40d7-e673-6b53a086e3f8"
      },
      "source": [
        "print(x)"
      ],
      "execution_count": null,
      "outputs": [
        {
          "output_type": "stream",
          "text": [
            "tensor([[1, 3],\n",
            "        [5, 7]])\n"
          ],
          "name": "stdout"
        }
      ]
    },
    {
      "cell_type": "code",
      "metadata": {
        "id": "GQtBH3r3u7c3",
        "colab": {
          "base_uri": "https://localhost:8080/"
        },
        "outputId": "31b223fa-0042-4c28-9170-c91d4adbaf59"
      },
      "source": [
        "print(x[:,2])"
      ],
      "execution_count": null,
      "outputs": [
        {
          "output_type": "stream",
          "text": [
            "tensor([1, 5])\n"
          ],
          "name": "stdout"
        }
      ]
    },
    {
      "cell_type": "markdown",
      "metadata": {
        "id": "jEscXddKvQ5l"
      },
      "source": [
        "### view\n",
        "- 텐서의 크기(size)나 모양(shape)을 변경"
      ]
    },
    {
      "cell_type": "code",
      "metadata": {
        "id": "xwhWeqhLvKKj",
        "colab": {
          "base_uri": "https://localhost:8080/"
        },
        "outputId": "dda09d81-ba5d-4441-e6a9-d745534609c8"
      },
      "source": [
        "x = torch.randn(4,5)\n",
        "y = x.view(20)\n",
        "z = x.view(5, -1)\n",
        "print(x)\n",
        "print(y)\n",
        "print(z)"
      ],
      "execution_count": null,
      "outputs": [
        {
          "output_type": "stream",
          "text": [
            "tensor([[ 0.1752,  0.9519,  0.7788,  0.0796,  0.4850],\n",
            "        [-0.5264, -0.7182, -2.0684, -1.0148,  1.1582],\n",
            "        [-1.8339,  0.5480, -0.2628,  0.6523, -0.0933],\n",
            "        [-0.5729, -0.8256, -0.5244, -1.0659,  0.7445]])\n",
            "tensor([ 0.1752,  0.9519,  0.7788,  0.0796,  0.4850, -0.5264, -0.7182, -2.0684,\n",
            "        -1.0148,  1.1582, -1.8339,  0.5480, -0.2628,  0.6523, -0.0933, -0.5729,\n",
            "        -0.8256, -0.5244, -1.0659,  0.7445])\n",
            "tensor([[ 0.1752,  0.9519,  0.7788,  0.0796],\n",
            "        [ 0.4850, -0.5264, -0.7182, -2.0684],\n",
            "        [-1.0148,  1.1582, -1.8339,  0.5480],\n",
            "        [-0.2628,  0.6523, -0.0933, -0.5729],\n",
            "        [-0.8256, -0.5244, -1.0659,  0.7445]])\n"
          ],
          "name": "stdout"
        }
      ]
    },
    {
      "cell_type": "markdown",
      "metadata": {
        "id": "iBY_wuIRvf5j"
      },
      "source": [
        "### item\n",
        "- 텐서에 값이 단 하나라도 존재하면 숫자값을 얻을 수 있음\n"
      ]
    },
    {
      "cell_type": "code",
      "metadata": {
        "id": "E0W24QqpvcmV",
        "colab": {
          "base_uri": "https://localhost:8080/"
        },
        "outputId": "4818432c-9048-4a8e-aaea-10a44c1bc39e"
      },
      "source": [
        "x = torch.randn(1)\n",
        "print(x)\n",
        "print(x.item())\n",
        "print(x.dtype)"
      ],
      "execution_count": null,
      "outputs": [
        {
          "output_type": "stream",
          "text": [
            "tensor([-0.2243])\n",
            "-0.22434481978416443\n",
            "torch.float32\n"
          ],
          "name": "stdout"
        }
      ]
    },
    {
      "cell_type": "markdown",
      "metadata": {
        "id": "V1sCUVwC3Nua"
      },
      "source": [
        "- 스칼라값 하나만 존재해야함"
      ]
    },
    {
      "cell_type": "code",
      "metadata": {
        "id": "jl4_FAgd3Lt9",
        "colab": {
          "base_uri": "https://localhost:8080/"
        },
        "outputId": "7e01c912-209c-4fb0-b279-a6e714bda9b0"
      },
      "source": [
        "x = torch.tensor(3)\n",
        "print(x)\n",
        "print(x.item())\n",
        "print(x.dtype)"
      ],
      "execution_count": null,
      "outputs": [
        {
          "output_type": "stream",
          "text": [
            "tensor(3)\n",
            "3\n",
            "torch.int64\n"
          ],
          "name": "stdout"
        }
      ]
    },
    {
      "cell_type": "markdown",
      "metadata": {
        "id": "uThndsy5M6wM"
      },
      "source": [
        "### squeeze \n",
        "- 차원을 축소(제거)"
      ]
    },
    {
      "cell_type": "code",
      "metadata": {
        "id": "OF3rOavnRxgM",
        "colab": {
          "base_uri": "https://localhost:8080/"
        },
        "outputId": "5d3b9271-0f75-4f1c-d1ab-664003a1459a"
      },
      "source": [
        "tensor = torch.rand(1,3,3)\n",
        "print(tensor)\n",
        "tensor.shape"
      ],
      "execution_count": null,
      "outputs": [
        {
          "output_type": "stream",
          "text": [
            "tensor([[[0.5521, 0.1104, 0.3874],\n",
            "         [0.8684, 0.7200, 0.5500],\n",
            "         [0.0282, 0.3659, 0.6512]]])\n"
          ],
          "name": "stdout"
        },
        {
          "output_type": "execute_result",
          "data": {
            "text/plain": [
              "torch.Size([1, 3, 3])"
            ]
          },
          "metadata": {
            "tags": []
          },
          "execution_count": 38
        }
      ]
    },
    {
      "cell_type": "code",
      "metadata": {
        "id": "Y2jq0jHJR5Jw",
        "colab": {
          "base_uri": "https://localhost:8080/"
        },
        "outputId": "dabf7d83-ee1b-4862-ee96-dc20f68b1d3a"
      },
      "source": [
        "t = tensor.squeeze()\n",
        "print(t)\n",
        "t.shape"
      ],
      "execution_count": null,
      "outputs": [
        {
          "output_type": "stream",
          "text": [
            "tensor([[0.3213, 0.8753, 0.7930],\n",
            "        [0.6348, 0.8947, 0.8883],\n",
            "        [0.6894, 0.0572, 0.7404]])\n"
          ],
          "name": "stdout"
        },
        {
          "output_type": "execute_result",
          "data": {
            "text/plain": [
              "torch.Size([3, 3])"
            ]
          },
          "metadata": {
            "tags": []
          },
          "execution_count": 37
        }
      ]
    },
    {
      "cell_type": "markdown",
      "metadata": {
        "id": "COv-dnTYNJ8Z"
      },
      "source": [
        "### unsqueeze\n",
        "- 차원을 증가(생성)"
      ]
    },
    {
      "cell_type": "code",
      "metadata": {
        "id": "PFxaHGY1NOBo",
        "colab": {
          "base_uri": "https://localhost:8080/"
        },
        "outputId": "c5a1862f-99fd-4336-e15f-c6b7c9ae6230"
      },
      "source": [
        "tensor = torch.rand(1,3,3)\n",
        "print(tensor)\n",
        "tensor.shape"
      ],
      "execution_count": null,
      "outputs": [
        {
          "output_type": "stream",
          "text": [
            "tensor([[[0.5102, 0.2161, 0.6537],\n",
            "         [0.9463, 0.9834, 0.4215],\n",
            "         [0.2302, 0.9137, 0.9646]]])\n"
          ],
          "name": "stdout"
        },
        {
          "output_type": "execute_result",
          "data": {
            "text/plain": [
              "torch.Size([1, 3, 3])"
            ]
          },
          "metadata": {
            "tags": []
          },
          "execution_count": 40
        }
      ]
    },
    {
      "cell_type": "code",
      "metadata": {
        "id": "b6sa4tJ7SA8G",
        "colab": {
          "base_uri": "https://localhost:8080/"
        },
        "outputId": "8ca87568-868b-41dc-9ef5-412066590ec4"
      },
      "source": [
        "t = tensor.unsqueeze(dim=0)\n",
        "print(t)\n",
        "t.shape"
      ],
      "execution_count": null,
      "outputs": [
        {
          "output_type": "stream",
          "text": [
            "tensor([[[[0.5102, 0.2161, 0.6537],\n",
            "          [0.9463, 0.9834, 0.4215],\n",
            "          [0.2302, 0.9137, 0.9646]]]])\n"
          ],
          "name": "stdout"
        },
        {
          "output_type": "execute_result",
          "data": {
            "text/plain": [
              "torch.Size([1, 1, 3, 3])"
            ]
          },
          "metadata": {
            "tags": []
          },
          "execution_count": 42
        }
      ]
    },
    {
      "cell_type": "markdown",
      "metadata": {
        "id": "_C_oa9JANOa6"
      },
      "source": [
        "### stack\n",
        "- 텐서간 결합\n"
      ]
    },
    {
      "cell_type": "code",
      "metadata": {
        "id": "f3x_XaUYNOuc",
        "colab": {
          "base_uri": "https://localhost:8080/"
        },
        "outputId": "8c7953a5-180d-4403-c659-ed0edd56770b"
      },
      "source": [
        " x = torch.FloatTensor([1,4])\n",
        " y = torch.FloatTensor([2,5])\n",
        " z = torch.FloatTensor([3,6])\n",
        "\n",
        "print(torch.stack([x, y, z]))\n",
        "a = torch.stack([x,y,z])\n",
        "print(a)"
      ],
      "execution_count": null,
      "outputs": [
        {
          "output_type": "stream",
          "text": [
            "tensor([[1., 4.],\n",
            "        [2., 5.],\n",
            "        [3., 6.]])\n",
            "tensor([[1., 4.],\n",
            "        [2., 5.],\n",
            "        [3., 6.]])\n"
          ],
          "name": "stdout"
        }
      ]
    },
    {
      "cell_type": "markdown",
      "metadata": {
        "id": "XmJscbfg35-c"
      },
      "source": [
        "### cat\n",
        "- 텐서를 결합하는 메소드(concatenate)\n",
        "\n",
        "- 넘파이의 `stack`과 유사하지만, 쌓을 dim이 존재해야함\n",
        "  - 예를 들어, 해당 차원을 늘려준 후 결합\n"
      ]
    },
    {
      "cell_type": "code",
      "metadata": {
        "id": "Mv3zlaNm37P1",
        "colab": {
          "base_uri": "https://localhost:8080/"
        },
        "outputId": "4fd75dae-baf4-459b-9db1-a363e8ce309a"
      },
      "source": [
        "a = torch.randn(1, 1, 3, 3)\n",
        "b = torch.randn(1, 1, 3, 3)\n",
        "c = torch.cat((a, b), dim=0)\n",
        "print(c)\n",
        "print(c.size())\n"
      ],
      "execution_count": null,
      "outputs": [
        {
          "output_type": "stream",
          "text": [
            "tensor([[[[ 0.5658,  0.9658,  0.6434],\n",
            "          [-0.0817, -0.8063, -0.7355],\n",
            "          [-0.2271, -1.0944,  0.3625]]],\n",
            "\n",
            "\n",
            "        [[[ 0.6805,  0.0080,  0.1002],\n",
            "          [-0.5637,  1.2405,  0.8575],\n",
            "          [-1.0219, -1.1830, -1.0413]]]])\n",
            "torch.Size([2, 1, 3, 3])\n"
          ],
          "name": "stdout"
        }
      ]
    },
    {
      "cell_type": "markdown",
      "metadata": {
        "id": "7gGXnOAqQTmG"
      },
      "source": [
        "### chuck\n",
        "- 텐서를 여러 개로 나눌 때 사용\n",
        "\n",
        "- 몇 개의 텐서로 나눌 것이냐"
      ]
    },
    {
      "cell_type": "code",
      "metadata": {
        "id": "pNV80VzPQZgG",
        "colab": {
          "base_uri": "https://localhost:8080/"
        },
        "outputId": "f1ef387f-6a05-4e5d-90e5-31ce8cdbf10d"
      },
      "source": [
        "tensor = torch.rand(3, 6)\n",
        "t1, t2, t3 = torch.chunk(tensor, 3, dim=1)\n",
        "print(tensor)\n",
        "print(t1)\n",
        "print(t2)\n",
        "print(t3)\n",
        "\n"
      ],
      "execution_count": null,
      "outputs": [
        {
          "output_type": "stream",
          "text": [
            "tensor([[0.1910, 0.5455, 0.0460, 0.3996, 0.6027, 0.1623],\n",
            "        [0.7061, 0.9261, 0.1192, 0.6057, 0.4464, 0.3726],\n",
            "        [0.9482, 0.4655, 0.6834, 0.8071, 0.0413, 0.8257]])\n",
            "tensor([[0.1910, 0.5455],\n",
            "        [0.7061, 0.9261],\n",
            "        [0.9482, 0.4655]])\n",
            "tensor([[0.0460, 0.3996],\n",
            "        [0.1192, 0.6057],\n",
            "        [0.6834, 0.8071]])\n",
            "tensor([[0.6027, 0.1623],\n",
            "        [0.4464, 0.3726],\n",
            "        [0.0413, 0.8257]])\n"
          ],
          "name": "stdout"
        }
      ]
    },
    {
      "cell_type": "markdown",
      "metadata": {
        "id": "7U0Qb0jWQgm-"
      },
      "source": [
        "### split\n",
        "- `chunck`와 동일한 기능이지만 조금 다름\n",
        "\n",
        "- 하나의 텐서당 크기가 얼마이냐"
      ]
    },
    {
      "cell_type": "code",
      "metadata": {
        "id": "1V6DDnLVQqxz",
        "colab": {
          "base_uri": "https://localhost:8080/"
        },
        "outputId": "e74229a3-220d-4a07-aa26-90c837cff80a"
      },
      "source": [
        "tensor = torch.rand(3, 6)\n",
        "t1, t2 = torch.split(tensor, 3, dim=1)\n",
        "print(tensor)\n",
        "print(t1)\n",
        "print(t2)"
      ],
      "execution_count": null,
      "outputs": [
        {
          "output_type": "stream",
          "text": [
            "tensor([[0.7451, 0.5775, 0.3092, 0.2679, 0.5022, 0.6695],\n",
            "        [0.7272, 0.8673, 0.2131, 0.1089, 0.2655, 0.4094],\n",
            "        [0.9678, 0.5067, 0.5887, 0.5736, 0.9507, 0.2156]])\n",
            "tensor([[0.7451, 0.5775, 0.3092],\n",
            "        [0.7272, 0.8673, 0.2131],\n",
            "        [0.9678, 0.5067, 0.5887]])\n",
            "tensor([[0.2679, 0.5022, 0.6695],\n",
            "        [0.1089, 0.2655, 0.4094],\n",
            "        [0.5736, 0.9507, 0.2156]])\n"
          ],
          "name": "stdout"
        }
      ]
    },
    {
      "cell_type": "markdown",
      "metadata": {
        "id": "estSwhCgvta6"
      },
      "source": [
        "### torch ↔ numpy\n",
        "- Torch Tensor(텐서)를 Numpy array(배열)로 변환 가능\n",
        "\n",
        "  - `numpy()`\n",
        "  - `from_numpy()`\n",
        "\n",
        "- (참고)\n",
        "  - Tensor가 CPU상에 있다면 Numpy 배열은 메모리 공간을 공유하므로 하나가 변하면, 다른 하나도 변함"
      ]
    },
    {
      "cell_type": "code",
      "metadata": {
        "id": "VxHI7c_yvmAT",
        "colab": {
          "base_uri": "https://localhost:8080/"
        },
        "outputId": "7053e565-169d-42e5-f166-490cf6a7a1fd"
      },
      "source": [
        "a = torch.ones(7)\n",
        "print(a)"
      ],
      "execution_count": null,
      "outputs": [
        {
          "output_type": "stream",
          "text": [
            "tensor([1., 1., 1., 1., 1., 1., 1.])\n"
          ],
          "name": "stdout"
        }
      ]
    },
    {
      "cell_type": "code",
      "metadata": {
        "id": "whbrhokHwJ3A",
        "colab": {
          "base_uri": "https://localhost:8080/"
        },
        "outputId": "e9959b6e-dcb1-4626-df16-b62336407d4e"
      },
      "source": [
        "b = a.numpy()\n",
        "print(b)"
      ],
      "execution_count": null,
      "outputs": [
        {
          "output_type": "stream",
          "text": [
            "[1. 1. 1. 1. 1. 1. 1.]\n"
          ],
          "name": "stdout"
        }
      ]
    },
    {
      "cell_type": "code",
      "metadata": {
        "id": "5StIhUWDwQjA",
        "colab": {
          "base_uri": "https://localhost:8080/"
        },
        "outputId": "638b65b9-ee9a-4012-a977-a63b8fa6211d"
      },
      "source": [
        "a.add_(1)\n",
        "print(a)\n",
        "print(b)"
      ],
      "execution_count": null,
      "outputs": [
        {
          "output_type": "stream",
          "text": [
            "tensor([3., 3., 3., 3., 3., 3., 3.])\n",
            "[3. 3. 3. 3. 3. 3. 3.]\n"
          ],
          "name": "stdout"
        }
      ]
    },
    {
      "cell_type": "code",
      "metadata": {
        "id": "3RNS5-cRwTt8",
        "colab": {
          "base_uri": "https://localhost:8080/"
        },
        "outputId": "b5f9ffeb-2436-48a9-a982-4cdecd31cf44"
      },
      "source": [
        "import numpy as np\n",
        "\n",
        "a = np.ones(7)\n",
        "b = torch.from_numpy(a)\n",
        "np.add(a, 1, out=a)\n",
        "print(a)\n",
        "print(b)"
      ],
      "execution_count": null,
      "outputs": [
        {
          "output_type": "stream",
          "text": [
            "[2. 2. 2. 2. 2. 2. 2.]\n",
            "tensor([2., 2., 2., 2., 2., 2., 2.], dtype=torch.float64)\n"
          ],
          "name": "stdout"
        }
      ]
    },
    {
      "cell_type": "markdown",
      "metadata": {
        "id": "v-ZaxSvLxEej"
      },
      "source": [
        "## CUDA Tensors\n",
        "- `.to` 메소드를 사용하여 텐서를 어떠한 장치로도 옮길 수 있음\n",
        "  - 예) cpu, gpu"
      ]
    },
    {
      "cell_type": "code",
      "metadata": {
        "id": "xkaQznCRxpUj"
      },
      "source": [
        "import torch"
      ],
      "execution_count": null,
      "outputs": []
    },
    {
      "cell_type": "code",
      "metadata": {
        "id": "SCnC0x2Rxpbk",
        "colab": {
          "base_uri": "https://localhost:8080/"
        },
        "outputId": "f4c2b112-4160-4dbe-a1bd-6845c22078b5"
      },
      "source": [
        "x = torch.randn(1)\n",
        "print(x)\n",
        "print(x.item())\n",
        "print(x.dtype)"
      ],
      "execution_count": null,
      "outputs": [
        {
          "output_type": "stream",
          "text": [
            "tensor([0.6141])\n",
            "0.6140878200531006\n",
            "torch.float32\n"
          ],
          "name": "stdout"
        }
      ]
    },
    {
      "cell_type": "code",
      "metadata": {
        "id": "GcSsFLkDw-nI",
        "colab": {
          "base_uri": "https://localhost:8080/"
        },
        "outputId": "cffe1f62-a550-4d3b-94c0-1b0f72c433eb"
      },
      "source": [
        "device = torch.device(\"cuda\" if torch.cuda.is_available() else \"cpu\")\n",
        "\n",
        "y = torch.ones_like(x, device=device)\n",
        "x = x.to(device)\n",
        "z = x + y\n",
        "print(device)\n",
        "print(z)\n",
        "print(x.to(\"cpu\", torch.double))"
      ],
      "execution_count": null,
      "outputs": [
        {
          "output_type": "stream",
          "text": [
            "cuda\n",
            "tensor([1.6141], device='cuda:0')\n",
            "tensor([0.6141], dtype=torch.float64)\n"
          ],
          "name": "stdout"
        }
      ]
    },
    {
      "cell_type": "markdown",
      "metadata": {
        "id": "NKqiGvLWx2nk"
      },
      "source": [
        "## AUTOGRAD (자동미분)\n",
        "- autograd 패키지는 Tensor의 모든 연산에 대해 **자동 미분** 제공\n",
        "\n",
        "- 이는 코드를 어떻게 작성하여 실행하느냐에 따라 역전파가 정의된다는 뜻\n",
        "\n",
        "- backprop를 위한 미분값을 자동으로 계산"
      ]
    },
    {
      "cell_type": "markdown",
      "metadata": {
        "id": "0zH41l-MyMHi"
      },
      "source": [
        "### Tensor\n",
        "\n",
        "- data: tensor형태의 데이터\n",
        "\n",
        "- grad: data가 겨쳐온 layer에 대한 미분값 저장\n",
        "\n",
        "- grad_fn: 미분값을 계산한 함수에 대한 정보 저장 (어떤 함수에 대해서 backprop 했는지)\n",
        "\n",
        "- `requires_grad` 속성을 `True`로 설정하면, 해당 텐서에서 이루어지는 모든 연산들을 추적하기 시작\n",
        "\n",
        "- 계산이 완료된 후, `.backward()`를 호출하면 자동으로 `gradient`를 계산할 수 있으며, `.grad` 속성에 누적됨\n",
        "\n",
        "- 기록을 추적하는 것을 중단하게 하려면, `.detach()`를 호출하여 연산기록으로부터 분리\n",
        "\n",
        "- 기록을 추적하는 것을 방지하기 위해 코드 블럭을 `with torch.no_grad():`로 감싸면 `gradient`는 필요없지만, `requires_grad=True`로 설정되어 학습 가능한 매개변수를 갖는 모델을 평가(evaluate)할 때 유용\n",
        "\n",
        "- Autograd 구현에서 매우 중요한 클래스 : `Function` 클래스"
      ]
    },
    {
      "cell_type": "code",
      "metadata": {
        "id": "ipdk_1jfx47I"
      },
      "source": [
        "import torch"
      ],
      "execution_count": null,
      "outputs": []
    },
    {
      "cell_type": "code",
      "metadata": {
        "id": "ljNU-r9p0Rpo",
        "colab": {
          "base_uri": "https://localhost:8080/"
        },
        "outputId": "bbcbef88-0487-45cb-964e-4e7ea3f9e395"
      },
      "source": [
        "x = torch.ones(3, 3, requires_grad=True)\n",
        "print(x)"
      ],
      "execution_count": null,
      "outputs": [
        {
          "output_type": "stream",
          "text": [
            "tensor([[1., 1., 1.],\n",
            "        [1., 1., 1.],\n",
            "        [1., 1., 1.]], requires_grad=True)\n"
          ],
          "name": "stdout"
        }
      ]
    },
    {
      "cell_type": "code",
      "metadata": {
        "id": "or6sQ4EB0UYz",
        "colab": {
          "base_uri": "https://localhost:8080/"
        },
        "outputId": "5c7a60fb-84f6-4502-d60e-eebd4ed7c1e5"
      },
      "source": [
        "y = x + 5\n",
        "print(y)"
      ],
      "execution_count": null,
      "outputs": [
        {
          "output_type": "stream",
          "text": [
            "tensor([[6., 6., 6.],\n",
            "        [6., 6., 6.],\n",
            "        [6., 6., 6.]], grad_fn=<AddBackward0>)\n"
          ],
          "name": "stdout"
        }
      ]
    },
    {
      "cell_type": "code",
      "metadata": {
        "id": "PuQ7xDmu0Wpj",
        "colab": {
          "base_uri": "https://localhost:8080/"
        },
        "outputId": "0ad229d7-2b09-4af0-a875-6c06ff346542"
      },
      "source": [
        "print(y.grad_fn)"
      ],
      "execution_count": null,
      "outputs": [
        {
          "output_type": "stream",
          "text": [
            "<AddBackward0 object at 0x7f980c1b5850>\n"
          ],
          "name": "stdout"
        }
      ]
    },
    {
      "cell_type": "code",
      "metadata": {
        "id": "6_2iM-Zq0ZdG",
        "colab": {
          "base_uri": "https://localhost:8080/"
        },
        "outputId": "7fb40f36-dbde-4d97-ddab-76be595e60a2"
      },
      "source": [
        "z = y * y * 2\n",
        "out = z.mean()\n",
        "print(z, out)"
      ],
      "execution_count": null,
      "outputs": [
        {
          "output_type": "stream",
          "text": [
            "tensor([[72., 72., 72.],\n",
            "        [72., 72., 72.],\n",
            "        [72., 72., 72.]], grad_fn=<MulBackward0>) tensor(72., grad_fn=<MeanBackward0>)\n"
          ],
          "name": "stdout"
        }
      ]
    },
    {
      "cell_type": "markdown",
      "metadata": {
        "id": "2aZ8SWn_0nqt"
      },
      "source": [
        "- `requires_grad_(...)`는 기존 텐서의 `requires_grad`값을 바꿔치기(`in-place`)하여 변경"
      ]
    },
    {
      "cell_type": "code",
      "metadata": {
        "id": "mHGROgrM0ebO",
        "colab": {
          "base_uri": "https://localhost:8080/"
        },
        "outputId": "a918b791-63ea-4b39-888d-496ee5042903"
      },
      "source": [
        "a = torch.randn(3, 3)\n",
        "a = ((a * 3) / (a -1))\n",
        "print(a.requires_grad)\n",
        "\n",
        "a.requires_grad_(True)\n",
        "print(a.requires_grad)\n",
        "\n",
        "b = (a * a).sum()\n",
        "print(b.grad_fn)"
      ],
      "execution_count": null,
      "outputs": [
        {
          "output_type": "stream",
          "text": [
            "False\n",
            "True\n",
            "<SumBackward0 object at 0x7f9807a61210>\n"
          ],
          "name": "stdout"
        }
      ]
    },
    {
      "cell_type": "markdown",
      "metadata": {
        "id": "KiEn_stZ1VgU"
      },
      "source": [
        "### 기울기(Gradient)\n",
        "- 역전파: `.backward()`를 통해 역전파 계산 가능"
      ]
    },
    {
      "cell_type": "code",
      "metadata": {
        "id": "1tdoN9p-1kn4",
        "colab": {
          "base_uri": "https://localhost:8080/"
        },
        "outputId": "d6fbc229-8674-4b2e-a372-b1f156af4c2e"
      },
      "source": [
        "x = torch.randn(3, requires_grad=True)\n",
        "\n",
        "y = x * 2\n",
        "while y.data.norm() <1000:\n",
        "  y = y * 2\n",
        "  print(y)"
      ],
      "execution_count": null,
      "outputs": [
        {
          "output_type": "stream",
          "text": [
            "tensor([ 1.2359,  3.1911, -5.8509], grad_fn=<MulBackward0>)\n",
            "tensor([  2.4717,   6.3821, -11.7019], grad_fn=<MulBackward0>)\n",
            "tensor([  4.9434,  12.7642, -23.4037], grad_fn=<MulBackward0>)\n",
            "tensor([  9.8869,  25.5285, -46.8074], grad_fn=<MulBackward0>)\n",
            "tensor([ 19.7738,  51.0569, -93.6148], grad_fn=<MulBackward0>)\n",
            "tensor([  39.5476,  102.1139, -187.2296], grad_fn=<MulBackward0>)\n",
            "tensor([  79.0951,  204.2277, -374.4592], grad_fn=<MulBackward0>)\n",
            "tensor([ 158.1903,  408.4554, -748.9185], grad_fn=<MulBackward0>)\n",
            "tensor([  316.3806,   816.9108, -1497.8369], grad_fn=<MulBackward0>)\n"
          ],
          "name": "stdout"
        }
      ]
    },
    {
      "cell_type": "code",
      "metadata": {
        "id": "CixGTXbV1B9p",
        "colab": {
          "base_uri": "https://localhost:8080/"
        },
        "outputId": "30fc52d2-489c-4732-a2cb-4c7f176387cb"
      },
      "source": [
        "v = torch.tensor([0.1, 1.0, 0.0001], dtype=torch.float)\n",
        "y.backward(v)\n",
        "\n",
        "print(x.grad)"
      ],
      "execution_count": null,
      "outputs": [
        {
          "output_type": "stream",
          "text": [
            "tensor([1.0240e+02, 1.0240e+03, 1.0240e-01])\n"
          ],
          "name": "stdout"
        }
      ]
    },
    {
      "cell_type": "markdown",
      "metadata": {
        "id": "0b9amArPXtcX"
      },
      "source": [
        "- `with torch.no_grad()`를 사용하여 gradient의 업데이트를 하지 않음"
      ]
    },
    {
      "cell_type": "code",
      "metadata": {
        "id": "weeIe5_Z3jVe",
        "colab": {
          "base_uri": "https://localhost:8080/"
        },
        "outputId": "ba425f11-4465-4343-a95e-dab587da4238"
      },
      "source": [
        "print(x.requires_grad)\n",
        "print((x **2).requires_grad)\n",
        "\n",
        "with torch.no_grad():\n",
        "  print((x ** 2).requires_grad)"
      ],
      "execution_count": null,
      "outputs": [
        {
          "output_type": "stream",
          "text": [
            "True\n",
            "True\n",
            "False\n"
          ],
          "name": "stdout"
        }
      ]
    },
    {
      "cell_type": "markdown",
      "metadata": {
        "id": "bLcTLVRSmCdH"
      },
      "source": [
        "- `detach()`: 내용물(content)은 같지만 require_grad가 다른 새로운 Tensor를 가져올 때"
      ]
    },
    {
      "cell_type": "code",
      "metadata": {
        "id": "ALcth7Ew3l7H",
        "colab": {
          "base_uri": "https://localhost:8080/"
        },
        "outputId": "a8718adb-ebec-4d43-94ad-9c68a8fbf26d"
      },
      "source": [
        "print(x.requires_grad)\n",
        "y = x.detach()\n",
        "print(y.requires_grad)\n",
        "print(x.eq(y).all())"
      ],
      "execution_count": null,
      "outputs": [
        {
          "output_type": "stream",
          "text": [
            "True\n",
            "False\n",
            "tensor(True)\n"
          ],
          "name": "stdout"
        }
      ]
    },
    {
      "cell_type": "markdown",
      "metadata": {
        "id": "NSarysrqBh9D"
      },
      "source": [
        "### 자동 미분 흐름 다시 보기(1)\n",
        "- 계산 흐름  \n",
        "  $a \\rightarrow b  \\rightarrow c  \\rightarrow out $\n",
        "\n",
        "<br>\n",
        "\n",
        "## $\\quad \\frac{\\partial out}{\\partial a} = ?$\n",
        "- `backward()`를 통해  \n",
        "  $a \\leftarrow b  \\leftarrow c  \\leftarrow out $을 계산하면  \n",
        "    $\\frac{\\partial out}{\\partial a}$값이 `a.grad`에 채워짐\n"
      ]
    },
    {
      "cell_type": "code",
      "metadata": {
        "id": "NUAc1etP3oBc"
      },
      "source": [
        "import torch"
      ],
      "execution_count": null,
      "outputs": []
    },
    {
      "cell_type": "code",
      "metadata": {
        "id": "tCW7dq9uB89T",
        "colab": {
          "base_uri": "https://localhost:8080/"
        },
        "outputId": "2c87748b-e7b7-4d70-eee6-ff856f084cec"
      },
      "source": [
        "a = torch.ones(2,2)\n",
        "print(a)"
      ],
      "execution_count": null,
      "outputs": [
        {
          "output_type": "stream",
          "text": [
            "tensor([[1., 1.],\n",
            "        [1., 1.]])\n"
          ],
          "name": "stdout"
        }
      ]
    },
    {
      "cell_type": "code",
      "metadata": {
        "id": "-AyyGy49FLz9",
        "colab": {
          "base_uri": "https://localhost:8080/"
        },
        "outputId": "f17c6746-dca1-44ce-ab06-0cb96e088cee"
      },
      "source": [
        "a = torch.ones(2,2, requires_grad=True)\n",
        "print(a)"
      ],
      "execution_count": null,
      "outputs": [
        {
          "output_type": "stream",
          "text": [
            "tensor([[1., 1.],\n",
            "        [1., 1.]], requires_grad=True)\n"
          ],
          "name": "stdout"
        }
      ]
    },
    {
      "cell_type": "code",
      "metadata": {
        "id": "SmmJa-hvFPGH",
        "colab": {
          "base_uri": "https://localhost:8080/"
        },
        "outputId": "ffc34a56-fd29-42d4-9261-cf710bc00bef"
      },
      "source": [
        "print(\"a.data:\", a.data)\n",
        "print(\"a.grad:\", a.grad)\n",
        "print(\"a.grad_fn\", a.grad_fn)"
      ],
      "execution_count": null,
      "outputs": [
        {
          "output_type": "stream",
          "text": [
            "a.data: tensor([[1., 1.],\n",
            "        [1., 1.]], requires_grad=True)\n",
            "a.grad: None\n",
            "a.grad_fn None\n"
          ],
          "name": "stdout"
        }
      ]
    },
    {
      "cell_type": "markdown",
      "metadata": {
        "id": "BCwhTsiHGCmG"
      },
      "source": [
        "- $b = a + 2$"
      ]
    },
    {
      "cell_type": "code",
      "metadata": {
        "id": "iUPt042iF9V1",
        "colab": {
          "base_uri": "https://localhost:8080/"
        },
        "outputId": "32b5d77d-9223-48b0-8c58-144163dcae89"
      },
      "source": [
        "b = a + 2\n",
        "print(b)"
      ],
      "execution_count": null,
      "outputs": [
        {
          "output_type": "stream",
          "text": [
            "tensor([[3., 3.],\n",
            "        [3., 3.]], grad_fn=<AddBackward0>)\n"
          ],
          "name": "stdout"
        }
      ]
    },
    {
      "cell_type": "markdown",
      "metadata": {
        "id": "6cw2zoq9GHLF"
      },
      "source": [
        "- $c = b^2$ "
      ]
    },
    {
      "cell_type": "code",
      "metadata": {
        "id": "FRDS6gP0GFZG",
        "colab": {
          "base_uri": "https://localhost:8080/"
        },
        "outputId": "1f0fdb66-f26d-4c4c-e2ee-1a0d8ac145a0"
      },
      "source": [
        "c = b**2\n",
        "print(c)"
      ],
      "execution_count": null,
      "outputs": [
        {
          "output_type": "stream",
          "text": [
            "tensor([[9., 9.],\n",
            "        [9., 9.]], grad_fn=<PowBackward0>)\n"
          ],
          "name": "stdout"
        }
      ]
    },
    {
      "cell_type": "code",
      "metadata": {
        "id": "VynoiUywGSwh",
        "colab": {
          "base_uri": "https://localhost:8080/"
        },
        "outputId": "1efe1a2b-821d-4b3f-c408-0584a4fbe1b1"
      },
      "source": [
        "out = c.sum()\n",
        "print(out)"
      ],
      "execution_count": null,
      "outputs": [
        {
          "output_type": "stream",
          "text": [
            "tensor(36., grad_fn=<SumBackward0>)\n"
          ],
          "name": "stdout"
        }
      ]
    },
    {
      "cell_type": "code",
      "metadata": {
        "id": "v3ryJon9GeMn",
        "colab": {
          "base_uri": "https://localhost:8080/"
        },
        "outputId": "50f15474-15cd-4d18-a51f-cd6eba86ba9c"
      },
      "source": [
        "print(out)\n",
        "out.backward()"
      ],
      "execution_count": null,
      "outputs": [
        {
          "output_type": "stream",
          "text": [
            "tensor(36., grad_fn=<SumBackward0>)\n"
          ],
          "name": "stdout"
        }
      ]
    },
    {
      "cell_type": "markdown",
      "metadata": {
        "id": "f0aoNsPDHsoG"
      },
      "source": [
        "- a의 `grad_fn`이 None인 이유  \n",
        "  직접적으로 계산한 부분이 없었기 때문"
      ]
    },
    {
      "cell_type": "code",
      "metadata": {
        "id": "bccI4vIWGgqj",
        "colab": {
          "base_uri": "https://localhost:8080/"
        },
        "outputId": "f5902740-b1ab-4cb3-ca8d-7f574d57a0ed"
      },
      "source": [
        "print(\"b.data:\", b.data)\n",
        "print(\"b.grad:\", b.grad)\n",
        "print(\"b.grad_fn\", b.grad_fn)"
      ],
      "execution_count": null,
      "outputs": [
        {
          "output_type": "stream",
          "text": [
            "b.data: tensor([[3., 3.],\n",
            "        [3., 3.]])\n",
            "b.grad: None\n",
            "b.grad_fn <AddBackward0 object at 0x7f98071aee90>\n"
          ],
          "name": "stdout"
        },
        {
          "output_type": "stream",
          "text": [
            "/usr/local/lib/python3.7/dist-packages/ipykernel_launcher.py:2: UserWarning: The .grad attribute of a Tensor that is not a leaf Tensor is being accessed. Its .grad attribute won't be populated during autograd.backward(). If you indeed want the gradient for a non-leaf Tensor, use .retain_grad() on the non-leaf Tensor. If you access the non-leaf Tensor by mistake, make sure you access the leaf Tensor instead. See github.com/pytorch/pytorch/pull/30531 for more informations.\n",
            "  \n"
          ],
          "name": "stderr"
        }
      ]
    },
    {
      "cell_type": "code",
      "metadata": {
        "id": "oka1mkadHq-N",
        "colab": {
          "base_uri": "https://localhost:8080/"
        },
        "outputId": "296f4a92-0397-458f-c827-c864e9abde7f"
      },
      "source": [
        "print(\"c.data:\", c)\n",
        "print(\"c.grad:\", c.grad)\n",
        "print(\"c.grad_fn\", c.grad_fn)"
      ],
      "execution_count": null,
      "outputs": [
        {
          "output_type": "stream",
          "text": [
            "c.data: tensor([[9., 9.],\n",
            "        [9., 9.]], grad_fn=<PowBackward0>)\n",
            "c.grad: None\n",
            "c.grad_fn <PowBackward0 object at 0x7f98071e3490>\n"
          ],
          "name": "stdout"
        },
        {
          "output_type": "stream",
          "text": [
            "/usr/local/lib/python3.7/dist-packages/ipykernel_launcher.py:2: UserWarning: The .grad attribute of a Tensor that is not a leaf Tensor is being accessed. Its .grad attribute won't be populated during autograd.backward(). If you indeed want the gradient for a non-leaf Tensor, use .retain_grad() on the non-leaf Tensor. If you access the non-leaf Tensor by mistake, make sure you access the leaf Tensor instead. See github.com/pytorch/pytorch/pull/30531 for more informations.\n",
            "  \n"
          ],
          "name": "stderr"
        }
      ]
    },
    {
      "cell_type": "code",
      "metadata": {
        "id": "ZiYNajdLccUF",
        "colab": {
          "base_uri": "https://localhost:8080/"
        },
        "outputId": "f8a95416-8d50-40dd-d46c-ceaadfcc6e23"
      },
      "source": [
        "print(\"out.data:\", out.data)\n",
        "print(\"out.grad:\", out.grad)\n",
        "print(\"out.grad_fn\", out.grad_fn)"
      ],
      "execution_count": null,
      "outputs": [
        {
          "output_type": "stream",
          "text": [
            "out.data: tensor(36.)\n",
            "out.grad: None\n",
            "out.grad_fn <SumBackward0 object at 0x7f980c1d03d0>\n"
          ],
          "name": "stdout"
        },
        {
          "output_type": "stream",
          "text": [
            "/usr/local/lib/python3.7/dist-packages/ipykernel_launcher.py:2: UserWarning: The .grad attribute of a Tensor that is not a leaf Tensor is being accessed. Its .grad attribute won't be populated during autograd.backward(). If you indeed want the gradient for a non-leaf Tensor, use .retain_grad() on the non-leaf Tensor. If you access the non-leaf Tensor by mistake, make sure you access the leaf Tensor instead. See github.com/pytorch/pytorch/pull/30531 for more informations.\n",
            "  \n"
          ],
          "name": "stderr"
        }
      ]
    },
    {
      "cell_type": "code",
      "metadata": {
        "id": "BcLoMYite0vU"
      },
      "source": [
        ""
      ],
      "execution_count": null,
      "outputs": []
    },
    {
      "cell_type": "markdown",
      "metadata": {
        "id": "qZXgwviHfovj"
      },
      "source": [
        "### 자동 미분 흐름 다시 보기(2)\n",
        "- `grad`값을 넣어서 `backward`\n",
        "\n",
        "- 아래의 코드에서 `.grad`값이 None은 gradient값이 필요하지 않기 때문"
      ]
    },
    {
      "cell_type": "code",
      "metadata": {
        "id": "bB6DCYXRfcI_",
        "colab": {
          "base_uri": "https://localhost:8080/"
        },
        "outputId": "0015e21f-ffe7-4473-db3c-503ee9a35dd9"
      },
      "source": [
        "x = torch.ones(3, requires_grad=True)\n",
        "y = (x **2 )\n",
        "z = y** 2 + x \n",
        "out = z.sum()\n",
        "print(out)"
      ],
      "execution_count": null,
      "outputs": [
        {
          "output_type": "stream",
          "text": [
            "tensor(6., grad_fn=<SumBackward0>)\n"
          ],
          "name": "stdout"
        }
      ]
    },
    {
      "cell_type": "code",
      "metadata": {
        "id": "AVo-glm8fvFv"
      },
      "source": [
        "grad = torch.Tensor([0.1, 1, 100])\n"
      ],
      "execution_count": null,
      "outputs": []
    },
    {
      "cell_type": "code",
      "metadata": {
        "id": "tdBklrepf2qq",
        "colab": {
          "base_uri": "https://localhost:8080/"
        },
        "outputId": "c327652c-5bc2-4b10-e281-26bca38f2a1d"
      },
      "source": [
        "print(\"x.data:\", x.data)\n",
        "print(\"x.grad:\", x.grad)\n",
        "print(\"x.grad_fn\", x.grad_fn)"
      ],
      "execution_count": null,
      "outputs": [
        {
          "output_type": "stream",
          "text": [
            "x.data: tensor([1., 1., 1.])\n",
            "x.grad: tensor([  0.5000,   5.0000, 500.0000])\n",
            "x.grad_fn None\n"
          ],
          "name": "stdout"
        }
      ]
    },
    {
      "cell_type": "code",
      "metadata": {
        "id": "HQvUGlfRf7jU",
        "colab": {
          "base_uri": "https://localhost:8080/"
        },
        "outputId": "6d8de5f1-ca9c-41ba-bfae-d0b38e9c64f7"
      },
      "source": [
        "print(\"y.data:\", y.data)\n",
        "print(\"y.grad:\", y.grad)\n",
        "print(\"y.grad_fn\", y.grad_fn)"
      ],
      "execution_count": null,
      "outputs": [
        {
          "output_type": "stream",
          "text": [
            "y.data: tensor([1., 1., 1.])\n",
            "y.grad: None\n",
            "y.grad_fn <PowBackward0 object at 0x7f980719b790>\n"
          ],
          "name": "stdout"
        },
        {
          "output_type": "stream",
          "text": [
            "/usr/local/lib/python3.7/dist-packages/ipykernel_launcher.py:2: UserWarning: The .grad attribute of a Tensor that is not a leaf Tensor is being accessed. Its .grad attribute won't be populated during autograd.backward(). If you indeed want the gradient for a non-leaf Tensor, use .retain_grad() on the non-leaf Tensor. If you access the non-leaf Tensor by mistake, make sure you access the leaf Tensor instead. See github.com/pytorch/pytorch/pull/30531 for more informations.\n",
            "  \n"
          ],
          "name": "stderr"
        }
      ]
    },
    {
      "cell_type": "code",
      "metadata": {
        "id": "h7TFHdMfgxvW",
        "colab": {
          "base_uri": "https://localhost:8080/"
        },
        "outputId": "048a37e0-6bd3-4be1-d201-ac8aa34e724f"
      },
      "source": [
        "print(\"z.data:\", z.data)\n",
        "print(\"z.grad:\", z.grad)\n",
        "print(\"z.grad_fn\", z.grad_fn)"
      ],
      "execution_count": null,
      "outputs": [
        {
          "output_type": "stream",
          "text": [
            "z.data: tensor([2., 2., 2.])\n",
            "z.grad: None\n",
            "z.grad_fn <AddBackward0 object at 0x7f980715b890>\n"
          ],
          "name": "stdout"
        },
        {
          "output_type": "stream",
          "text": [
            "/usr/local/lib/python3.7/dist-packages/ipykernel_launcher.py:2: UserWarning: The .grad attribute of a Tensor that is not a leaf Tensor is being accessed. Its .grad attribute won't be populated during autograd.backward(). If you indeed want the gradient for a non-leaf Tensor, use .retain_grad() on the non-leaf Tensor. If you access the non-leaf Tensor by mistake, make sure you access the leaf Tensor instead. See github.com/pytorch/pytorch/pull/30531 for more informations.\n",
            "  \n"
          ],
          "name": "stderr"
        }
      ]
    },
    {
      "cell_type": "markdown",
      "metadata": {
        "id": "DKv-osmNmWiA"
      },
      "source": [
        "## nn & nn.functional\n",
        "\n",
        "- 두 패키지가 같은 기능이지만 방식이 조금 다름\n",
        "\n",
        "- 위의 `autograd` 관련 작업들을 두 패키지를 통해 진행할 수 있음\n",
        "\n",
        "- 텐서를 직접 다룰 때 `requires_grad`와 같은 방식으로 진행할 수 있음\n",
        "\n",
        "- 결론적으로, `torch.nn`은 attribute를 활용해 state를 저장하고 활용하고,  \n",
        "  `torch.nn.functional`로 구현한 함수의 경우에는 인스턴스화 시킬 필요 없이 사용이 가능\n",
        " \n"
      ]
    },
    {
      "cell_type": "markdown",
      "metadata": {
        "id": "jk8fkKq3nWP1"
      },
      "source": [
        "### nn 패키지\n",
        "\n",
        "- 주로 가중치(weights), 편향(bias)값들이 내부에서 자동으로 생성되는 레이어들을 사용할 때  \n",
        "  - 따라서, `weight`값들을 직접 선언 안함\n",
        "\n",
        "- 예시\n",
        "  - Containers\n",
        "\n",
        "  - Convolution Layers\n",
        "\n",
        "  - Pooling layers\n",
        "\n",
        "  - Padding Layers\n",
        "\n",
        "  - Non-linear Activations (weighted sum, nonlinearity)\n",
        "\n",
        "  - Non-linear Activations (other)\n",
        "\n",
        "  - Normalization Layers\n",
        "\n",
        "  - Recurrent Layers\n",
        "\n",
        "  - Transformer Layers\n",
        "\n",
        "  - Linear Layers\n",
        "\n",
        "  - Dropout Layers\n",
        "\n",
        "  - Sparse Layers\n",
        "\n",
        "  - Distance Functions\n",
        "\n",
        "  - Loss Functions\n",
        "\n",
        "  - ..\n",
        "- https://pytorch.org/docs/stable/nn.html\n",
        "\n"
      ]
    },
    {
      "cell_type": "code",
      "metadata": {
        "id": "8tEtWHAsmZMy"
      },
      "source": [
        "import torch\n",
        "import torch.nn as nn"
      ],
      "execution_count": null,
      "outputs": []
    },
    {
      "cell_type": "markdown",
      "metadata": {
        "id": "NcjCbeEQqPSI"
      },
      "source": [
        "- Convolution Layer 예시 (1)\n"
      ]
    },
    {
      "cell_type": "code",
      "metadata": {
        "id": "NQ7Y0tCOpkhM",
        "colab": {
          "base_uri": "https://localhost:8080/"
        },
        "outputId": "b3143219-fd3c-407f-837e-bcdf6767c408"
      },
      "source": [
        " m = nn.Conv2d(16, 33, 3, stride=2)\n",
        "\n",
        " m = nn.Conv2d(16, 33, (3, 5), stride=(2,1), padding=(4, 2))\n",
        " \n",
        " m = nn.Conv2d(16, 33, (3, 5), stride=(2,1), padding=(4, 2), dilation=(3,1))\n",
        "\n",
        " input = torch.randn(20, 16, 50, 100)\n",
        " print(input)\n",
        " output.shape\n",
        " output = m(input)"
      ],
      "execution_count": null,
      "outputs": [
        {
          "output_type": "stream",
          "text": [
            "tensor([[[[ 7.4740e-01,  5.1648e-01, -3.3814e-01,  ...,  1.2089e+00,\n",
            "           -5.4707e-01,  4.5156e-01],\n",
            "          [-1.3783e+00, -7.0899e-01,  4.4140e-01,  ..., -1.2244e+00,\n",
            "            2.4245e-01, -1.5857e-01],\n",
            "          [-7.6673e-02,  1.5455e+00, -1.3402e+00,  ...,  1.0032e-01,\n",
            "           -9.4040e-01, -5.5790e-01],\n",
            "          ...,\n",
            "          [ 2.0936e-01,  7.7098e-01,  1.1624e+00,  ..., -1.3024e+00,\n",
            "            8.4210e-01, -2.6063e-01],\n",
            "          [-7.9072e-01,  1.5869e+00,  1.8360e+00,  ..., -1.4131e-01,\n",
            "            1.3813e+00, -6.8088e-01],\n",
            "          [-1.1331e-02, -2.0280e+00, -4.4277e-01,  ...,  8.9014e-01,\n",
            "            1.5564e+00, -3.2330e-01]],\n",
            "\n",
            "         [[ 2.4487e-02,  4.3003e-01,  7.5148e-01,  ...,  8.9421e-01,\n",
            "            1.0005e+00, -2.3180e-01],\n",
            "          [ 9.6207e-01,  1.4620e-01, -5.3612e-01,  ...,  8.0779e-01,\n",
            "           -5.4212e-01,  7.5552e-01],\n",
            "          [ 6.0895e-01, -6.7796e-01,  5.3661e-01,  ...,  1.3125e-01,\n",
            "            1.2824e+00,  1.4447e+00],\n",
            "          ...,\n",
            "          [-2.3719e-01,  1.5518e+00, -1.3779e+00,  ...,  1.4351e+00,\n",
            "           -6.0303e-01,  3.8129e-01],\n",
            "          [ 1.7453e-01,  4.9523e-01,  5.1375e-01,  ..., -5.7516e-01,\n",
            "            5.2266e-01,  1.9524e-01],\n",
            "          [-9.6864e-03, -8.4143e-01, -4.0600e-01,  ..., -5.6145e-01,\n",
            "           -1.5590e+00, -4.8411e-02]],\n",
            "\n",
            "         [[ 8.4916e-01, -6.4397e-03,  3.8017e-01,  ..., -3.2911e-02,\n",
            "            1.0507e+00, -2.1130e-03],\n",
            "          [ 2.1703e+00,  6.5064e-01,  4.0092e-01,  ..., -1.2528e+00,\n",
            "            6.8604e-01,  1.0628e-01],\n",
            "          [-2.6719e+00, -6.8299e-02, -2.9152e-01,  ..., -2.4430e-01,\n",
            "            1.1229e-01,  1.3651e+00],\n",
            "          ...,\n",
            "          [ 1.0815e-01,  3.2437e-02,  3.7435e-01,  ..., -9.1606e-01,\n",
            "           -1.7760e+00, -1.2761e+00],\n",
            "          [-6.3669e-01,  1.5478e+00,  2.3639e+00,  ...,  5.7996e-01,\n",
            "           -1.5295e+00,  1.3938e-01],\n",
            "          [-3.8711e-01, -1.1475e+00,  4.2628e-01,  ...,  8.0187e-02,\n",
            "           -1.8054e+00,  1.0866e+00]],\n",
            "\n",
            "         ...,\n",
            "\n",
            "         [[-2.6140e-01, -1.4738e+00, -7.3414e-01,  ..., -7.8981e-01,\n",
            "            4.7006e-01, -1.5058e-01],\n",
            "          [ 4.7992e-01,  1.9185e-01,  1.6397e-01,  ...,  3.5937e-01,\n",
            "            1.0394e+00,  9.7947e-01],\n",
            "          [ 5.9715e-02, -2.1724e+00, -1.2017e-01,  ..., -5.2469e-01,\n",
            "            9.9035e-01,  1.5604e+00],\n",
            "          ...,\n",
            "          [-7.5960e-03,  8.2460e-01, -1.4452e+00,  ...,  2.0279e+00,\n",
            "           -3.2820e-01, -7.5743e-01],\n",
            "          [ 6.5740e-02, -1.1294e+00,  2.5904e+00,  ...,  7.9212e-02,\n",
            "           -5.4379e-01, -8.3568e-01],\n",
            "          [ 1.7898e-02, -1.3829e+00, -1.5849e-01,  ...,  1.4298e+00,\n",
            "           -6.2988e-01,  7.0793e-01]],\n",
            "\n",
            "         [[-1.2917e-01,  4.6042e-01, -1.4008e+00,  ...,  5.5605e-01,\n",
            "           -2.9191e-02,  1.4383e+00],\n",
            "          [-5.2051e-01, -2.3900e+00,  5.8183e-01,  ..., -2.3249e-01,\n",
            "           -1.0192e+00, -2.7901e-01],\n",
            "          [-8.2723e-01, -2.1174e+00,  1.1539e+00,  ...,  1.3940e-01,\n",
            "            7.8792e-01, -1.1113e-01],\n",
            "          ...,\n",
            "          [ 1.0203e+00,  1.6021e+00, -4.8297e-02,  ...,  1.0884e+00,\n",
            "            6.8618e-01, -1.1132e+00],\n",
            "          [ 2.4617e+00,  1.1988e+00, -1.7646e-01,  ...,  3.2539e-01,\n",
            "           -3.9005e-01, -2.1376e+00],\n",
            "          [ 4.2183e-01,  2.4279e-01,  1.7063e+00,  ..., -8.0431e-01,\n",
            "           -2.6285e-01,  7.3345e-01]],\n",
            "\n",
            "         [[ 1.5244e+00,  9.7799e-01,  2.7246e-01,  ..., -2.0482e+00,\n",
            "           -3.0040e-01,  1.1979e+00],\n",
            "          [-2.4389e+00,  4.7933e-01,  6.8444e-01,  ..., -1.5783e-01,\n",
            "           -2.7820e+00,  6.8588e-02],\n",
            "          [ 7.9912e-01,  7.3542e-01,  3.3055e-01,  ..., -5.6150e-01,\n",
            "            4.0114e-01,  9.6001e-01],\n",
            "          ...,\n",
            "          [ 9.3954e-02, -1.1264e+00, -1.2345e+00,  ...,  1.5421e-01,\n",
            "            1.5327e+00, -1.7503e+00],\n",
            "          [-3.7172e+00,  2.7025e-01, -4.8676e-01,  ...,  1.2573e+00,\n",
            "           -7.2977e-01,  5.8864e-01],\n",
            "          [ 6.1617e-01,  3.4282e+00,  1.1175e-02,  ..., -4.6527e-01,\n",
            "            7.9369e-01,  1.0481e+00]]],\n",
            "\n",
            "\n",
            "        [[[ 2.2482e+00, -7.0781e-01,  1.3622e+00,  ..., -3.5880e-01,\n",
            "           -7.1123e-01, -7.0131e-01],\n",
            "          [-1.5501e+00, -6.0779e-01,  1.0458e+00,  ...,  8.3871e-01,\n",
            "           -4.4259e-01,  3.5723e-01],\n",
            "          [-7.2106e-02, -1.2168e+00, -1.6106e-01,  ..., -1.6699e+00,\n",
            "           -1.8713e+00, -1.4220e+00],\n",
            "          ...,\n",
            "          [ 1.9116e-01, -1.2086e+00,  1.0132e+00,  ..., -3.3250e-01,\n",
            "           -1.0181e+00, -1.0023e+00],\n",
            "          [-2.1427e-01, -3.6011e-02,  3.6489e-01,  ..., -8.8695e-01,\n",
            "            4.2465e-01, -4.1401e-01],\n",
            "          [ 2.7006e+00,  6.1820e-01,  1.5085e+00,  ..., -1.6170e-01,\n",
            "            1.6828e-01,  6.5749e-02]],\n",
            "\n",
            "         [[ 5.9282e-01,  4.9833e-01,  1.9139e-01,  ..., -1.0406e+00,\n",
            "           -5.1556e-01,  4.4678e-01],\n",
            "          [ 1.7678e+00,  1.4887e+00, -2.4212e-01,  ..., -9.4394e-01,\n",
            "           -5.5117e-01, -1.9477e+00],\n",
            "          [-4.9164e-01,  1.6912e+00, -3.9204e-01,  ...,  1.1758e+00,\n",
            "           -4.0311e-01,  1.9152e+00],\n",
            "          ...,\n",
            "          [-2.6694e-01, -2.7689e+00,  2.1753e+00,  ..., -1.4188e+00,\n",
            "           -1.4503e+00, -9.0326e-01],\n",
            "          [-1.5211e+00, -1.5742e+00,  1.9087e-01,  ...,  1.5117e+00,\n",
            "            7.7293e-01,  7.7017e-02],\n",
            "          [ 1.9571e+00,  7.9668e-01,  1.5707e-02,  ..., -8.6984e-01,\n",
            "            1.0492e+00, -1.6357e-01]],\n",
            "\n",
            "         [[ 1.0198e+00, -6.2644e-01,  1.3146e+00,  ..., -8.2532e-01,\n",
            "           -1.1911e+00,  2.2563e-01],\n",
            "          [-1.4063e-01,  3.1879e-01,  1.5468e+00,  ..., -2.7421e-01,\n",
            "            1.4188e+00, -6.2249e-01],\n",
            "          [ 1.2931e+00,  8.4822e-01, -1.8536e+00,  ...,  2.9941e-01,\n",
            "            1.5851e-01,  9.7746e-01],\n",
            "          ...,\n",
            "          [-2.0146e-01, -7.9392e-01, -8.7237e-01,  ...,  9.4826e-03,\n",
            "            6.7587e-01,  5.0815e-01],\n",
            "          [-2.4694e-01,  9.0444e-01, -2.3174e-01,  ..., -1.3504e+00,\n",
            "            6.0694e-01, -3.4674e-01],\n",
            "          [ 5.1967e-01, -8.6207e-01, -3.9048e-01,  ...,  3.0511e-01,\n",
            "           -3.1456e-01, -4.6960e-01]],\n",
            "\n",
            "         ...,\n",
            "\n",
            "         [[ 1.2099e+00,  5.8663e-01, -6.9176e-01,  ..., -6.4352e-01,\n",
            "           -1.9049e+00,  5.5680e-01],\n",
            "          [-1.1197e+00,  3.4858e-01, -1.9271e-01,  ..., -1.2054e+00,\n",
            "            5.6328e-01,  5.3925e-01],\n",
            "          [ 2.0611e-01, -3.4974e-01,  5.4810e-01,  ..., -2.8873e-01,\n",
            "            5.3671e-01,  1.1041e+00],\n",
            "          ...,\n",
            "          [-1.0335e+00, -2.8076e+00, -9.5445e-01,  ..., -1.0293e-01,\n",
            "           -2.9305e-02, -2.5940e-01],\n",
            "          [-1.6993e+00,  2.9959e-01,  3.7485e-01,  ..., -8.2737e-01,\n",
            "            2.7755e-01, -7.7493e-01],\n",
            "          [ 1.3900e+00, -9.0508e-01, -1.9108e+00,  ...,  1.3786e+00,\n",
            "            6.2033e-01, -7.4725e-01]],\n",
            "\n",
            "         [[-3.2001e-02, -1.2158e+00,  1.2923e+00,  ..., -5.6403e-01,\n",
            "            1.1646e+00,  3.2901e-01],\n",
            "          [-4.7289e-01,  5.3634e-01, -3.6294e-01,  ..., -1.3812e+00,\n",
            "            1.8012e-01,  1.5475e+00],\n",
            "          [ 5.1724e-01, -4.5028e-01, -6.2444e-01,  ...,  7.4459e-01,\n",
            "           -1.4641e+00,  3.9877e-01],\n",
            "          ...,\n",
            "          [-1.0920e+00,  8.1886e-01, -1.8327e-01,  ..., -3.0040e-01,\n",
            "            7.0111e-01, -1.4704e-02],\n",
            "          [-6.1619e-01, -1.3034e+00, -1.4074e-01,  ..., -3.6854e-01,\n",
            "           -9.5052e-01, -8.9554e-01],\n",
            "          [ 4.8298e-01, -6.2283e-01,  2.3878e-01,  ...,  1.2940e+00,\n",
            "           -2.3026e-02,  1.7618e+00]],\n",
            "\n",
            "         [[-1.6344e+00, -1.0764e+00,  4.4766e-01,  ..., -3.6239e+00,\n",
            "           -6.0066e-01,  1.5320e+00],\n",
            "          [ 1.1587e+00,  1.8272e+00, -3.6010e-01,  ...,  1.4835e+00,\n",
            "           -2.1073e+00, -7.3294e-01],\n",
            "          [ 1.8462e+00,  1.4477e+00,  1.4959e+00,  ...,  3.1918e-01,\n",
            "           -5.3087e-01,  2.4883e-01],\n",
            "          ...,\n",
            "          [ 1.6935e-01,  7.3313e-01,  3.7206e-01,  ..., -8.1180e-01,\n",
            "            5.0428e-01,  1.0911e+00],\n",
            "          [ 1.8061e+00, -1.4866e+00, -6.3279e-01,  ...,  8.5631e-01,\n",
            "            5.7420e-01, -1.8550e+00],\n",
            "          [-5.0648e-01, -2.4253e-01,  6.9599e-01,  ...,  1.4281e+00,\n",
            "           -6.2903e-01, -3.0570e+00]]],\n",
            "\n",
            "\n",
            "        [[[ 3.7242e-02, -4.6232e-02,  9.4858e-01,  ...,  7.3213e-01,\n",
            "           -1.6608e+00,  2.1126e-01],\n",
            "          [ 8.3984e-01,  2.0774e+00, -1.6395e+00,  ..., -5.2636e-01,\n",
            "            2.5917e-01,  1.2930e-01],\n",
            "          [ 2.4684e-01, -1.7514e+00,  1.4318e+00,  ...,  3.4610e-01,\n",
            "           -3.9475e-01,  5.1183e-01],\n",
            "          ...,\n",
            "          [ 2.9395e-02, -7.1968e-01, -8.0034e-02,  ...,  1.7854e+00,\n",
            "           -5.6942e-02,  5.7929e-01],\n",
            "          [ 1.9830e-01, -2.9012e-01,  2.6520e-01,  ...,  8.5527e-01,\n",
            "            1.3171e+00,  1.9725e-02],\n",
            "          [ 1.3035e+00, -6.2867e-01,  5.5167e-01,  ..., -7.3725e-01,\n",
            "            6.8050e-01,  2.4471e-01]],\n",
            "\n",
            "         [[-8.2482e-01, -3.3100e-02,  5.0157e-01,  ...,  9.5200e-01,\n",
            "           -1.5924e-01,  6.8803e-01],\n",
            "          [-7.7058e-01,  1.0254e+00,  4.0662e-01,  ...,  8.7379e-01,\n",
            "            1.0400e+00,  8.0848e-01],\n",
            "          [-4.9426e-01,  1.2497e+00, -2.6959e-01,  ...,  9.4654e-01,\n",
            "            8.3351e-01, -1.8339e+00],\n",
            "          ...,\n",
            "          [-5.7769e-01, -1.2061e+00,  2.8085e-01,  ...,  3.7875e-01,\n",
            "           -2.0342e+00, -4.3604e-02],\n",
            "          [-1.1657e+00,  2.8932e-01,  5.6555e-01,  ...,  6.8129e-02,\n",
            "           -1.2023e+00, -2.4038e-01],\n",
            "          [ 2.1893e+00,  2.9666e-01, -1.5242e+00,  ...,  2.1385e-01,\n",
            "           -1.7007e-01, -1.4428e+00]],\n",
            "\n",
            "         [[ 6.2361e-01,  4.5698e-01, -1.8762e-01,  ..., -2.4638e-01,\n",
            "            6.1310e-01, -1.0720e+00],\n",
            "          [ 1.5568e+00, -5.3048e-01,  1.5103e+00,  ..., -1.9093e-01,\n",
            "           -1.8768e+00,  1.4380e+00],\n",
            "          [ 3.0303e-02, -1.6612e+00, -5.0755e-01,  ...,  5.0502e-02,\n",
            "            8.8620e-01,  7.1664e-02],\n",
            "          ...,\n",
            "          [ 1.5368e+00, -5.0818e-01, -7.8561e-02,  ..., -2.7487e-02,\n",
            "            2.0708e-01, -4.0922e-01],\n",
            "          [-6.6718e-01, -8.7441e-01, -3.8854e-02,  ...,  1.9248e-01,\n",
            "           -7.7259e-01, -1.6176e+00],\n",
            "          [-7.6132e-01, -4.1058e-01, -9.5864e-01,  ..., -1.4020e+00,\n",
            "           -5.3087e-01, -9.0447e-01]],\n",
            "\n",
            "         ...,\n",
            "\n",
            "         [[-8.3695e-01,  2.8899e-01, -3.0507e-01,  ..., -3.0172e-01,\n",
            "           -2.6205e-01,  1.3379e+00],\n",
            "          [-7.5203e-01,  4.1175e-01,  1.4428e-01,  ..., -4.8690e-01,\n",
            "           -2.4131e+00,  4.4255e-01],\n",
            "          [ 1.0604e+00, -1.0634e+00,  1.3103e+00,  ...,  1.8433e+00,\n",
            "            4.4069e-01,  2.2270e-01],\n",
            "          ...,\n",
            "          [ 4.5682e-01, -7.2985e-02, -6.4559e-01,  ...,  1.3194e+00,\n",
            "           -1.6275e+00, -1.6073e+00],\n",
            "          [ 1.7779e-01, -2.4609e+00, -2.0263e-01,  ...,  9.6608e-01,\n",
            "            6.2238e-01, -1.6272e+00],\n",
            "          [-4.8345e-01,  3.0580e-01,  1.4272e+00,  ...,  2.2663e-01,\n",
            "            1.0123e+00, -1.6951e-01]],\n",
            "\n",
            "         [[ 2.4215e+00, -1.2065e+00,  8.8079e-01,  ..., -1.4186e+00,\n",
            "            4.0958e-01,  2.2431e+00],\n",
            "          [ 1.2326e-01,  7.8281e-02, -8.2120e-01,  ..., -7.5835e-01,\n",
            "            1.5718e-01, -1.8576e+00],\n",
            "          [-9.3891e-01, -1.0108e+00, -3.5643e-02,  ..., -2.6648e-01,\n",
            "           -1.3282e+00, -1.2982e-01],\n",
            "          ...,\n",
            "          [-3.5963e-01, -7.9635e-01, -1.6245e+00,  ..., -3.4426e-01,\n",
            "            5.1384e-01,  1.6612e-03],\n",
            "          [ 2.6623e+00, -5.6138e-01,  1.5314e-01,  ...,  1.2561e+00,\n",
            "            6.6803e-01,  1.6194e+00],\n",
            "          [-1.4696e+00, -1.5075e+00,  1.2950e+00,  ..., -1.3210e+00,\n",
            "           -7.3342e-01,  1.3474e+00]],\n",
            "\n",
            "         [[ 1.3579e+00,  1.3923e-02, -1.3697e+00,  ...,  4.4936e-01,\n",
            "            1.3401e+00, -8.1172e-01],\n",
            "          [-1.6269e+00, -4.7726e-01,  3.9152e-01,  ..., -2.5930e-01,\n",
            "            9.3672e-02,  2.0358e-01],\n",
            "          [ 1.5076e-02,  1.5711e+00, -1.2385e+00,  ...,  1.0715e+00,\n",
            "            4.3079e-01,  1.4612e-01],\n",
            "          ...,\n",
            "          [ 1.4402e-01, -1.8372e-01, -8.4061e-01,  ..., -4.6146e-01,\n",
            "           -5.0398e-01,  2.3666e+00],\n",
            "          [ 2.3673e-01, -1.5028e-01,  5.1137e-01,  ...,  7.9673e-01,\n",
            "           -2.7168e-01, -2.3093e-01],\n",
            "          [ 1.9676e-01,  2.7909e-02,  6.5839e-01,  ..., -6.1681e-02,\n",
            "           -8.6031e-01,  5.5454e-02]]],\n",
            "\n",
            "\n",
            "        ...,\n",
            "\n",
            "\n",
            "        [[[ 5.1982e-01,  8.7902e-01,  1.2309e-01,  ...,  6.9541e-01,\n",
            "           -5.3147e-01, -1.0185e-02],\n",
            "          [-1.0363e+00,  1.0235e+00,  2.0248e-01,  ...,  7.7908e-01,\n",
            "            1.0026e-02,  1.9779e-01],\n",
            "          [ 4.0338e-03, -2.3946e-02,  4.4069e-01,  ...,  3.1665e-01,\n",
            "            4.1497e-01,  1.6124e-01],\n",
            "          ...,\n",
            "          [-3.3643e-01,  7.3066e-01,  8.8242e-01,  ...,  1.8566e+00,\n",
            "            1.4799e-01, -9.6861e-01],\n",
            "          [ 8.4556e-01,  1.3044e+00, -2.8660e-01,  ...,  1.2304e+00,\n",
            "           -6.1230e-01,  3.2036e-01],\n",
            "          [ 5.4183e-01, -3.4906e-01,  4.7258e-01,  ..., -1.6074e+00,\n",
            "            5.7334e-01,  5.7116e-01]],\n",
            "\n",
            "         [[ 1.8037e+00,  1.0593e+00,  1.4827e+00,  ..., -3.2189e-01,\n",
            "           -9.3930e-01,  2.3941e-01],\n",
            "          [-3.1307e-01,  7.9202e-01, -9.5473e-01,  ...,  1.2147e+00,\n",
            "           -1.1388e+00, -2.0874e+00],\n",
            "          [-1.0079e+00, -3.3833e-01,  1.0330e+00,  ...,  3.7329e-01,\n",
            "            3.6880e-02,  1.8744e+00],\n",
            "          ...,\n",
            "          [ 4.1749e-01,  6.0775e-01,  6.4473e-01,  ..., -5.9350e-01,\n",
            "           -4.8158e-01, -8.5997e-01],\n",
            "          [ 1.4261e+00,  9.3328e-02, -1.1571e+00,  ...,  2.5707e-01,\n",
            "           -5.6793e-01, -6.1511e-02],\n",
            "          [-3.5520e-01, -1.1142e+00, -8.2729e-01,  ...,  2.5635e-01,\n",
            "            4.7535e-01,  5.5535e-01]],\n",
            "\n",
            "         [[ 6.1272e-01, -1.2637e+00, -5.5894e-01,  ...,  5.2033e-01,\n",
            "            2.2553e-01, -5.8032e-01],\n",
            "          [-3.1258e-01,  1.0340e+00,  1.9751e+00,  ..., -1.9941e+00,\n",
            "            5.5261e-01,  1.0575e+00],\n",
            "          [-5.8316e-01, -6.2685e-01,  1.9236e+00,  ..., -9.8161e-01,\n",
            "            7.4383e-01, -1.4052e+00],\n",
            "          ...,\n",
            "          [-1.3691e+00,  1.0808e+00,  4.9452e-03,  ...,  1.6198e+00,\n",
            "            1.7713e+00,  1.0254e+00],\n",
            "          [ 1.3051e+00, -1.6752e+00, -1.6623e-01,  ...,  2.7383e-01,\n",
            "            1.1998e+00, -3.6040e-01],\n",
            "          [ 1.4434e+00,  1.3388e+00,  4.5970e-01,  ..., -5.4192e-01,\n",
            "            1.4608e-01, -8.5617e-01]],\n",
            "\n",
            "         ...,\n",
            "\n",
            "         [[-9.5641e-02, -2.3362e-01, -1.1754e+00,  ...,  8.1281e-01,\n",
            "            4.0941e-01,  6.0158e-01],\n",
            "          [ 2.3588e+00,  5.1605e-02, -2.5287e-01,  ...,  7.1005e-01,\n",
            "           -1.1646e+00,  2.3901e-02],\n",
            "          [-9.8304e-01, -1.5734e+00,  6.3476e-01,  ...,  1.4326e+00,\n",
            "           -9.6458e-01,  6.5353e-01],\n",
            "          ...,\n",
            "          [ 1.2186e+00, -1.5193e-01, -1.6207e+00,  ..., -1.2205e+00,\n",
            "           -1.1767e+00,  2.9302e-01],\n",
            "          [ 8.8994e-01, -1.5565e+00,  3.9394e-01,  ..., -1.1914e+00,\n",
            "            2.5041e-01, -7.8184e-01],\n",
            "          [ 5.3886e-01,  6.5714e-02, -8.2506e-01,  ...,  1.7582e+00,\n",
            "            1.3124e+00, -8.2910e-01]],\n",
            "\n",
            "         [[-5.7935e-01,  4.5607e-01,  3.2821e-01,  ..., -9.4968e-01,\n",
            "            4.1690e-01, -1.5905e+00],\n",
            "          [ 7.0483e-01, -8.3770e-01,  2.7436e-01,  ..., -1.2075e+00,\n",
            "           -9.1360e-01, -8.5759e-01],\n",
            "          [-3.2588e-01, -1.9801e+00,  1.8879e+00,  ...,  1.6600e-01,\n",
            "            3.7208e-01, -5.1476e-01],\n",
            "          ...,\n",
            "          [ 1.1147e+00, -2.3820e+00,  2.9691e-01,  ..., -1.0271e+00,\n",
            "           -2.9619e-01, -1.1157e-01],\n",
            "          [ 1.1866e-01,  2.8241e-01, -3.3983e-01,  ...,  1.1303e-01,\n",
            "            3.7989e-01,  1.5493e+00],\n",
            "          [-2.5178e-01,  2.4653e+00, -3.0946e-01,  ..., -5.4181e-01,\n",
            "           -1.0463e+00, -2.2308e+00]],\n",
            "\n",
            "         [[-9.5154e-01,  1.0688e+00, -1.8155e-01,  ..., -4.5758e-01,\n",
            "           -3.2154e-01,  1.1190e+00],\n",
            "          [ 7.0779e-01, -1.8465e+00,  5.1439e-01,  ...,  1.7044e+00,\n",
            "            4.0096e-01, -3.3492e-01],\n",
            "          [-4.2020e-01,  1.4728e+00, -1.3437e+00,  ..., -6.2181e-01,\n",
            "           -1.7419e-01,  1.1982e+00],\n",
            "          ...,\n",
            "          [-7.5620e-01, -3.2720e-01, -3.6246e-02,  ..., -1.8017e+00,\n",
            "            5.2982e-01,  5.4236e-01],\n",
            "          [-3.4411e-01, -1.1844e+00,  2.5656e-01,  ..., -2.6712e-01,\n",
            "            1.0329e+00, -2.3255e+00],\n",
            "          [ 2.0832e+00, -2.2128e+00, -4.6265e-01,  ..., -6.8846e-01,\n",
            "            2.2239e+00, -1.3860e+00]]],\n",
            "\n",
            "\n",
            "        [[[ 2.8444e-01, -2.2396e-01,  1.1794e+00,  ..., -6.4739e-01,\n",
            "           -1.1568e+00, -2.7974e-01],\n",
            "          [ 1.5123e+00, -3.5837e-01, -2.5148e+00,  ..., -1.3350e-01,\n",
            "            1.7154e+00,  1.1806e+00],\n",
            "          [-9.3600e-01, -7.3133e-01,  2.1245e-01,  ..., -7.6906e-01,\n",
            "            9.4857e-01,  5.2864e-01],\n",
            "          ...,\n",
            "          [ 7.9790e-01, -4.0011e-01, -1.0801e-01,  ..., -8.0429e-01,\n",
            "           -7.1252e-02,  3.0665e-01],\n",
            "          [ 1.4610e+00,  6.2149e-01,  1.1546e+00,  ..., -4.7592e-01,\n",
            "           -2.8687e-01, -9.9787e-01],\n",
            "          [ 1.5045e+00, -8.7243e-02,  1.3399e+00,  ...,  1.9994e+00,\n",
            "           -7.8012e-02,  2.1214e+00]],\n",
            "\n",
            "         [[ 5.9493e-01,  5.4863e-01, -4.2333e-01,  ...,  2.3900e-01,\n",
            "           -5.4263e-01, -1.0221e+00],\n",
            "          [ 3.3958e-01, -5.0453e-01, -2.7036e-01,  ..., -5.7709e-01,\n",
            "           -5.4669e-02, -1.5009e-01],\n",
            "          [-7.9799e-01,  1.1395e+00,  1.0740e+00,  ...,  6.6351e-01,\n",
            "            2.5488e-01, -9.5633e-01],\n",
            "          ...,\n",
            "          [ 1.9292e+00, -1.0643e+00, -1.5460e+00,  ..., -8.7054e-01,\n",
            "           -1.3811e+00,  7.0204e-01],\n",
            "          [ 4.4010e-01, -1.7517e+00, -6.7855e-01,  ...,  7.7861e-02,\n",
            "           -8.8600e-01, -4.3678e-02],\n",
            "          [-6.6722e-01, -8.1278e-01,  2.1549e+00,  ...,  2.1709e-01,\n",
            "           -1.2461e+00,  3.8158e-02]],\n",
            "\n",
            "         [[ 4.6673e-01,  1.8928e-01,  2.2386e+00,  ..., -1.0214e+00,\n",
            "           -6.5782e-01,  1.2296e-01],\n",
            "          [ 1.2653e+00, -6.2563e-01,  7.7320e-01,  ...,  1.7191e+00,\n",
            "           -1.1046e+00,  3.3913e-03],\n",
            "          [-7.5709e-01,  4.4533e-01,  1.2157e+00,  ..., -6.7371e-01,\n",
            "            2.1663e+00,  1.2693e-01],\n",
            "          ...,\n",
            "          [ 6.9841e-01,  5.7900e-01,  2.9134e-01,  ...,  8.1207e-01,\n",
            "           -2.2817e-01,  1.0416e+00],\n",
            "          [-8.4778e-02, -5.6285e-01, -1.4945e+00,  ...,  7.3624e-01,\n",
            "           -1.1016e+00,  1.1149e+00],\n",
            "          [-1.3862e-01,  9.6217e-01,  1.6003e+00,  ..., -3.3363e-02,\n",
            "           -1.8266e+00,  2.1195e+00]],\n",
            "\n",
            "         ...,\n",
            "\n",
            "         [[-7.3337e-01, -1.7774e+00,  1.2869e+00,  ...,  1.3855e+00,\n",
            "           -1.9469e-01,  1.6933e-01],\n",
            "          [-4.2541e-01, -6.2643e-01, -2.5138e-01,  ...,  1.1703e+00,\n",
            "           -1.5830e-01,  5.6700e-01],\n",
            "          [ 1.3835e+00,  2.1028e-01,  4.1003e-01,  ...,  1.1603e+00,\n",
            "           -1.3082e+00, -3.0466e-01],\n",
            "          ...,\n",
            "          [ 1.0567e+00, -1.1764e+00, -2.4451e+00,  ...,  3.8950e-01,\n",
            "            4.4726e-01, -6.2457e-01],\n",
            "          [ 1.1645e+00,  4.5935e-01,  6.4309e-01,  ...,  1.3069e+00,\n",
            "           -8.8695e-01, -1.5706e-01],\n",
            "          [ 3.6374e-01,  1.3426e-01,  7.3155e-01,  ...,  5.4342e-01,\n",
            "            5.7839e-01, -7.0267e-01]],\n",
            "\n",
            "         [[-3.6517e-01,  2.8707e-01,  5.7090e-02,  ...,  3.2690e-01,\n",
            "            9.3949e-01, -4.3507e-01],\n",
            "          [-4.7638e-01, -4.9070e-01, -4.8153e-01,  ..., -1.5406e+00,\n",
            "           -9.8441e-01,  7.7683e-01],\n",
            "          [-3.3587e+00,  9.9891e-01, -2.1485e+00,  ..., -1.0081e+00,\n",
            "            3.3112e-01, -1.9988e+00],\n",
            "          ...,\n",
            "          [-9.7460e-01, -8.1184e-01, -8.0128e-01,  ...,  6.4185e-02,\n",
            "            2.6421e-03, -1.1815e+00],\n",
            "          [ 1.0366e+00,  1.0855e+00, -2.4174e+00,  ...,  1.4611e+00,\n",
            "           -9.9279e-01, -1.1337e-01],\n",
            "          [ 3.8197e-01, -4.1896e-01, -7.9052e-02,  ..., -1.1982e+00,\n",
            "           -2.0036e-01, -2.4056e-01]],\n",
            "\n",
            "         [[-1.1267e+00,  4.9449e-01,  5.8004e-01,  ..., -1.3497e-01,\n",
            "           -2.7012e+00,  1.2386e-01],\n",
            "          [-3.2527e-01,  5.5087e-01,  4.2285e-01,  ...,  2.9713e-01,\n",
            "           -1.6248e+00,  4.7539e-01],\n",
            "          [ 9.5268e-01, -8.1832e-01, -1.2457e-01,  ..., -1.9208e-01,\n",
            "           -2.3140e+00,  1.0402e+00],\n",
            "          ...,\n",
            "          [ 8.9662e-01,  5.8541e-01, -8.7514e-01,  ..., -4.2555e-01,\n",
            "            1.5114e+00,  1.4917e-01],\n",
            "          [-7.3614e-01,  1.3222e+00,  1.7668e+00,  ...,  5.5348e-03,\n",
            "           -4.3326e-01, -9.9050e-01],\n",
            "          [-4.1822e-01, -2.6478e-01,  5.2104e-02,  ..., -5.7315e-01,\n",
            "           -9.8602e-01, -9.3512e-01]]],\n",
            "\n",
            "\n",
            "        [[[-4.0368e-01, -9.6973e-01,  1.5682e-01,  ..., -4.5221e-01,\n",
            "           -9.7680e-01,  1.2727e-01],\n",
            "          [ 1.2094e+00, -9.8696e-01,  1.2079e+00,  ...,  2.0812e-01,\n",
            "            1.5065e+00, -1.6778e+00],\n",
            "          [-1.2519e+00, -6.1383e-01,  2.1639e-01,  ..., -4.3991e-01,\n",
            "            3.1599e-01,  1.5875e+00],\n",
            "          ...,\n",
            "          [-1.0473e+00, -3.8493e-01,  1.1588e+00,  ..., -2.3813e+00,\n",
            "            1.5990e+00, -5.0928e-01],\n",
            "          [-1.2364e+00, -3.6252e-01,  2.4707e-01,  ..., -3.8585e-01,\n",
            "            1.8669e-01,  6.8163e-01],\n",
            "          [-3.4720e-01,  3.4614e-01,  8.4047e-01,  ...,  5.2133e-02,\n",
            "            1.5756e-01,  1.4149e+00]],\n",
            "\n",
            "         [[-1.2784e+00, -3.1898e-01, -4.3060e-01,  ...,  3.6817e-01,\n",
            "            3.4167e-01, -1.4234e+00],\n",
            "          [-1.1911e+00, -7.5777e-01, -7.6334e-01,  ...,  5.2752e-01,\n",
            "            4.6036e-01, -2.1295e-01],\n",
            "          [ 1.4092e+00, -6.0269e-01, -2.7592e-01,  ...,  6.7151e-02,\n",
            "           -9.5512e-02,  1.6732e+00],\n",
            "          ...,\n",
            "          [ 5.5753e-01, -8.0301e-01,  2.0993e+00,  ..., -3.1560e-01,\n",
            "            3.9952e-01,  1.7968e+00],\n",
            "          [ 9.2395e-01,  1.5655e+00, -1.7966e+00,  ...,  3.8222e-01,\n",
            "           -1.5825e+00, -9.0011e-01],\n",
            "          [-1.1144e+00, -1.0713e+00, -9.8995e-02,  ...,  6.2398e-01,\n",
            "           -3.8968e-01, -1.7055e+00]],\n",
            "\n",
            "         [[-1.1761e+00, -9.8009e-01, -4.1559e-01,  ...,  1.5203e-01,\n",
            "            1.5451e-02,  9.2926e-01],\n",
            "          [-1.3518e+00, -4.1246e-01, -1.5669e-01,  ...,  2.2026e-01,\n",
            "           -8.6910e-01,  4.2597e-01],\n",
            "          [-9.1687e-01, -3.3759e-01, -1.0411e+00,  ..., -2.7030e-01,\n",
            "            1.6009e+00,  2.0767e-01],\n",
            "          ...,\n",
            "          [-7.8976e-01,  7.7504e-01,  8.4886e-01,  ...,  4.8247e-01,\n",
            "            6.4938e-01,  1.7207e+00],\n",
            "          [ 4.9578e-01,  8.1045e-01,  1.5874e-01,  ...,  1.3806e-01,\n",
            "           -8.3494e-01,  4.1720e-02],\n",
            "          [-4.5460e-01, -2.9040e-01, -6.3917e-02,  ...,  3.1708e-01,\n",
            "           -6.9208e-01,  4.1603e-01]],\n",
            "\n",
            "         ...,\n",
            "\n",
            "         [[ 1.6004e-01, -1.1914e+00, -1.0296e+00,  ..., -6.1378e-01,\n",
            "           -1.6090e+00, -1.0285e+00],\n",
            "          [-1.0368e+00,  1.2126e-01, -2.0132e+00,  ..., -6.4799e-01,\n",
            "           -1.8750e-01,  8.0155e-01],\n",
            "          [ 1.7502e-01, -1.0891e-01,  8.1350e-01,  ...,  1.1420e-01,\n",
            "           -1.6622e+00,  2.1430e-01],\n",
            "          ...,\n",
            "          [-8.1206e-01,  7.5045e-01,  5.9732e-01,  ..., -1.4273e+00,\n",
            "           -1.4148e+00, -2.1156e+00],\n",
            "          [ 5.0391e-01,  3.6455e-01,  1.9461e+00,  ..., -1.1761e+00,\n",
            "            2.2944e+00,  4.0081e-01],\n",
            "          [ 1.9661e+00, -3.1036e+00, -1.1573e+00,  ...,  1.4016e+00,\n",
            "           -1.3169e+00,  1.1536e+00]],\n",
            "\n",
            "         [[-1.0081e-01,  1.0262e-01, -6.0722e-01,  ..., -1.8205e+00,\n",
            "           -7.8212e-01,  4.4304e-01],\n",
            "          [-6.8950e-02, -1.0261e+00,  7.2005e-01,  ...,  9.8059e-01,\n",
            "            1.8449e-01, -7.2930e-01],\n",
            "          [ 3.7538e-01, -6.8405e-01, -9.6628e-01,  ..., -6.4251e-01,\n",
            "           -3.1212e+00, -5.6184e-01],\n",
            "          ...,\n",
            "          [-7.2133e-01,  1.4297e+00, -1.3272e+00,  ..., -1.3007e+00,\n",
            "            1.0010e+00,  2.8532e-01],\n",
            "          [-9.7172e-01,  4.6596e-01,  3.1318e-01,  ..., -8.9552e-01,\n",
            "            3.0951e-01,  4.3106e-01],\n",
            "          [-9.5533e-01,  5.2914e-01,  1.1544e+00,  ..., -1.4947e+00,\n",
            "            1.0067e+00, -6.5620e-01]],\n",
            "\n",
            "         [[ 9.6406e-01,  7.0290e-01,  9.4238e-02,  ..., -5.6376e-01,\n",
            "            2.9452e-01, -1.6272e-01],\n",
            "          [ 9.2502e-01,  1.3170e+00, -6.2139e-01,  ..., -6.9278e-01,\n",
            "            2.8242e-02, -5.8710e-01],\n",
            "          [ 1.8769e-02,  1.8190e+00,  1.1305e-02,  ...,  5.5812e-01,\n",
            "            7.9728e-01,  6.8998e-01],\n",
            "          ...,\n",
            "          [-2.8935e+00,  1.2048e-01,  7.0076e-01,  ..., -6.7349e-03,\n",
            "           -7.5611e-01, -1.9793e+00],\n",
            "          [-3.6198e-01,  8.6802e-01, -4.6848e-01,  ...,  1.1488e-01,\n",
            "            6.9064e-01,  1.4979e-01],\n",
            "          [-8.7983e-01, -9.7264e-01,  1.1168e+00,  ..., -3.2158e-01,\n",
            "           -1.0917e+00,  1.2873e+00]]]])\n"
          ],
          "name": "stdout"
        }
      ]
    },
    {
      "cell_type": "code",
      "metadata": {
        "id": "RLqGbclbp3_N",
        "colab": {
          "base_uri": "https://localhost:8080/"
        },
        "outputId": "24fb96df-f147-4493-8aa8-81e36ebab2d3"
      },
      "source": [
        "output.shape"
      ],
      "execution_count": null,
      "outputs": [
        {
          "output_type": "execute_result",
          "data": {
            "text/plain": [
              "torch.Size([20, 33, 26, 100])"
            ]
          },
          "metadata": {
            "tags": []
          },
          "execution_count": 51
        }
      ]
    },
    {
      "cell_type": "markdown",
      "metadata": {
        "id": "CYeGAJEuneqW"
      },
      "source": [
        "### nn.functional 패키지\n",
        "\n",
        "- 가중치를 직접 선언하여 인자로 넣어줘야함\n",
        "\n",
        "- 예시)\n",
        "  - Convolution functions\n",
        "\n",
        "  - Pooling functions\n",
        "  \n",
        "  - Non-linear activation functions\n",
        "\n",
        "  - Normalization functions\n",
        "\n",
        "  - Linear functions\n",
        "\n",
        "  - Dropout functions\n",
        "  \n",
        "  - Sparse functions\n",
        "  \n",
        "  - Distance functions\n",
        "\n",
        "  - Loss functions\n",
        "  - ..\n",
        "\n",
        "- https://pytorch.org/docs/stable/nn.functional.html"
      ]
    },
    {
      "cell_type": "code",
      "metadata": {
        "id": "NpwbO9Dhpflm"
      },
      "source": [
        "import torch\n",
        "import torch.nn.functional as F"
      ],
      "execution_count": null,
      "outputs": []
    },
    {
      "cell_type": "markdown",
      "metadata": {
        "id": "fUYaJ5aLqKed"
      },
      "source": [
        "- Convolution Layer 예시 (2)"
      ]
    },
    {
      "cell_type": "code",
      "metadata": {
        "id": "GAWLQE2GouHP"
      },
      "source": [
        "filters = torch.randn(8, 4, 3, 3)"
      ],
      "execution_count": null,
      "outputs": []
    },
    {
      "cell_type": "code",
      "metadata": {
        "id": "lWmSlFBrpms1",
        "colab": {
          "base_uri": "https://localhost:8080/"
        },
        "outputId": "9d0f9be4-ca4d-4847-f163-751abf921f20"
      },
      "source": [
        "inputs = torch.randn(1, 4, 5, 5)\n",
        "conv = F.conv2d(inputs, filters, padding=1)\n",
        "conv.shape"
      ],
      "execution_count": null,
      "outputs": [
        {
          "output_type": "execute_result",
          "data": {
            "text/plain": [
              "torch.Size([1, 8, 5, 5])"
            ]
          },
          "metadata": {
            "tags": []
          },
          "execution_count": 56
        }
      ]
    },
    {
      "cell_type": "markdown",
      "metadata": {
        "id": "Wah4RsmgrRDP"
      },
      "source": [
        "## Torchvision\n",
        "\n",
        "- `transforms`: 전처리할 때 사용하는 메소드\n",
        "\n",
        "- `transforms`에서 제공하는 클래스 이외에  \n",
        "  일반적으로 클래스를 따로 만들어 전처리 단계를 진행\n",
        "  \n",
        "  - 아래의 코드에서 다양한 전처리 기술 확인  \n",
        "    https://pytorch.org/docs/stable/torchvision/transforms.html\n"
      ]
    },
    {
      "cell_type": "code",
      "metadata": {
        "id": "akvq4QWmqSil"
      },
      "source": [
        "import torch\n",
        "import torchvision\n",
        "import torchvision.transforms as transforms"
      ],
      "execution_count": null,
      "outputs": []
    },
    {
      "cell_type": "markdown",
      "metadata": {
        "id": "PKu5mzyTs-Qj"
      },
      "source": [
        "- 예시)\n",
        "  - `DataLoader`의 인자로 들어갈 `transform`을 미리 정의할 수 있음\n",
        "\n",
        "  - `Compose`를 통해 리스트 안에 순서대로 전처리 진행\n",
        "\n",
        "  - 대표적인 예로, `ToTensor`()를 하는 이유는  \n",
        "   <u>torchvision이 PIL Image형태로만 입력을 받기 때문에</u> 데이터 처리를 위해서 Tensor형으로 변환해야함"
      ]
    },
    {
      "cell_type": "code",
      "metadata": {
        "id": "y6K7FH-Rs9my"
      },
      "source": [
        "transform = transforms.Compose([transforms.ToTensor(),\n",
        "                                transforms.Normalize(mean=(0.5,), std=(0.5,))])"
      ],
      "execution_count": null,
      "outputs": []
    },
    {
      "cell_type": "markdown",
      "metadata": {
        "id": "I4l1GvIlslKa"
      },
      "source": [
        "## utils.data\n",
        "\n",
        "- `Dataset`에는 다양한 데이터셋이 존재  \n",
        "  - MNIST, CIFAR10, ...\n",
        "\n",
        "- `DataLoader`, `Dataset`을 통해  \n",
        "  `batch_size`, `train`여부, `transform`등을 인자로 넣어 데이터를 어떻게 load할 것인지 정해줄 수 있음"
      ]
    },
    {
      "cell_type": "code",
      "metadata": {
        "id": "1wsZKY7-s2Vv"
      },
      "source": [
        "import torch\n",
        "from torch.utils.data import DataLoader, Dataset\n",
        "\n",
        "import torchvision\n",
        "import torchvision.transforms as transforms"
      ],
      "execution_count": 148,
      "outputs": []
    },
    {
      "cell_type": "code",
      "metadata": {
        "id": "uWi77KhV53-1"
      },
      "source": [
        "batch_size = 32\n",
        "\n",
        "train_loader = torch.utils.data.DataLoader(\n",
        "    datasets.MNIST('/content/', train=True, download=True,\n",
        "                transform=transforms.Compose([\n",
        "                  transforms.ToTensor(),\n",
        "                  transforms.Normalize(mean=(0.5,), std=(0.5,))\n",
        "                ])),\n",
        "                batch_size=batch_size,\n",
        "                shuffle=True)"
      ],
      "execution_count": 159,
      "outputs": []
    },
    {
      "cell_type": "code",
      "metadata": {
        "id": "VJNvGKP5CH2n"
      },
      "source": [
        "test_batch_size = 32\n",
        "\n",
        "test_loader = torch.utils.data.DataLoader(\n",
        "    datasets.MNIST('/content/', train=False,\n",
        "                transform=transforms.Compose([\n",
        "                  transforms.ToTensor(),\n",
        "                  transforms.Normalize((0.5,), (0.5))\n",
        "                ])),\n",
        "                batch_size=test_batch_size,\n",
        "                shuffle=True)"
      ],
      "execution_count": 160,
      "outputs": []
    },
    {
      "cell_type": "markdown",
      "metadata": {
        "id": "U3-y4NKP53P1"
      },
      "source": [
        ""
      ]
    },
    {
      "cell_type": "code",
      "metadata": {
        "id": "fKddZnT1uQmT",
        "colab": {
          "base_uri": "https://localhost:8080/"
        },
        "outputId": "94ce5599-dc67-4b1f-8e3a-008c7ec7f0f9"
      },
      "source": [
        "images, labels = next(iter(train_loader))\n",
        "images.shape, labels.shape"
      ],
      "execution_count": 162,
      "outputs": [
        {
          "output_type": "execute_result",
          "data": {
            "text/plain": [
              "(torch.Size([32, 1, 28, 28]), torch.Size([32]))"
            ]
          },
          "metadata": {
            "tags": []
          },
          "execution_count": 162
        }
      ]
    },
    {
      "cell_type": "markdown",
      "metadata": {
        "id": "zrxymquLxeo8"
      },
      "source": [
        "- `batch_size`만큼 데이터를 하나씩 가져옴"
      ]
    },
    {
      "cell_type": "markdown",
      "metadata": {
        "id": "YPUC0a0aw6OM"
      },
      "source": [
        "<u>**(중요) torch에서는 channel(채널)이 앞에 옴**</u>\n",
        "\n",
        "- `channel first`\n",
        "\n",
        "- tensorflow, keras 등에서는 channel이 뒤에 옴(`channel last`)"
      ]
    },
    {
      "cell_type": "markdown",
      "metadata": {
        "id": "wuhylD3iyFYr"
      },
      "source": [
        "### 데이터 확인"
      ]
    },
    {
      "cell_type": "code",
      "metadata": {
        "id": "C9hAQmQlul8P"
      },
      "source": [
        "import matplotlib.pyplot as plt\n",
        "plt.style.use('seaborn-white')"
      ],
      "execution_count": 163,
      "outputs": []
    },
    {
      "cell_type": "code",
      "metadata": {
        "id": "zDcUY6o4xUQp",
        "colab": {
          "base_uri": "https://localhost:8080/"
        },
        "outputId": "e0fd09f4-b626-4e50-f212-515671d1cbd6"
      },
      "source": [
        "torch_image = torch.squeeze(images[0])\n",
        "torch_image.shape"
      ],
      "execution_count": 164,
      "outputs": [
        {
          "output_type": "execute_result",
          "data": {
            "text/plain": [
              "torch.Size([28, 28])"
            ]
          },
          "metadata": {
            "tags": []
          },
          "execution_count": 164
        }
      ]
    },
    {
      "cell_type": "code",
      "metadata": {
        "id": "MZmPWiGbxoiW",
        "colab": {
          "base_uri": "https://localhost:8080/"
        },
        "outputId": "38d16770-639e-43d9-9eb8-06570795f88d"
      },
      "source": [
        "image = torch_image.numpy()\n",
        "image.shape"
      ],
      "execution_count": 165,
      "outputs": [
        {
          "output_type": "execute_result",
          "data": {
            "text/plain": [
              "(28, 28)"
            ]
          },
          "metadata": {
            "tags": []
          },
          "execution_count": 165
        }
      ]
    },
    {
      "cell_type": "code",
      "metadata": {
        "id": "AUOdd4UaxaXO",
        "colab": {
          "base_uri": "https://localhost:8080/"
        },
        "outputId": "d6d01a01-5d8a-4d05-fcd3-b5d522970180"
      },
      "source": [
        "label = labels[0].numpy()\n",
        "label.shape"
      ],
      "execution_count": 166,
      "outputs": [
        {
          "output_type": "execute_result",
          "data": {
            "text/plain": [
              "()"
            ]
          },
          "metadata": {
            "tags": []
          },
          "execution_count": 166
        }
      ]
    },
    {
      "cell_type": "code",
      "metadata": {
        "id": "PDQfjw4wxr1z",
        "colab": {
          "base_uri": "https://localhost:8080/"
        },
        "outputId": "c2b50d11-c83f-4927-f387-9432d73afa97"
      },
      "source": [
        "label"
      ],
      "execution_count": 167,
      "outputs": [
        {
          "output_type": "execute_result",
          "data": {
            "text/plain": [
              "array(1)"
            ]
          },
          "metadata": {
            "tags": []
          },
          "execution_count": 167
        }
      ]
    },
    {
      "cell_type": "code",
      "metadata": {
        "id": "JDCVw59ax3-A",
        "colab": {
          "base_uri": "https://localhost:8080/",
          "height": 277
        },
        "outputId": "54faa7b4-31e3-41a5-b407-6563bfa7f642"
      },
      "source": [
        "plt.title(label)\n",
        "plt.imshow(image,'gray')\n",
        "plt.show()"
      ],
      "execution_count": 168,
      "outputs": [
        {
          "output_type": "display_data",
          "data": {
            "image/png": "[encoded data removed]",
            "text/plain": [
              "<Figure size 432x288 with 1 Axes>"
            ]
          },
          "metadata": {
            "tags": []
          }
        }
      ]
    },
    {
      "cell_type": "markdown",
      "metadata": {
        "id": "JVcWQlxzihtS"
      },
      "source": [
        "## 각 Layer 설명"
      ]
    },
    {
      "cell_type": "code",
      "metadata": {
        "id": "IGXn1_weif5H"
      },
      "source": [
        "import torch\n",
        "import torch.nn as nn\n",
        "import torch.nn.functional as F\n",
        "import torch.optim as optim"
      ],
      "execution_count": 169,
      "outputs": []
    },
    {
      "cell_type": "markdown",
      "metadata": {
        "id": "73kJ3heBi26y"
      },
      "source": [
        "### nn.Conv2d\n",
        "\n",
        "- `in_channels`: channel의 갯수\n",
        "\n",
        "- `out_channels`: 출력 채널의 갯수\n",
        "\n",
        "- `kernel_size`: 커널(필터) 사이즈\n",
        "\n",
        "- 텐서플로우, 케라스와 다르게 레이어의 `input`인자에도 값을 집어 넣어줘야함"
      ]
    },
    {
      "cell_type": "code",
      "metadata": {
        "id": "RcHJguyFipTl",
        "colab": {
          "base_uri": "https://localhost:8080/"
        },
        "outputId": "b9588f42-c496-4542-dfd2-aee6b13fd5f4"
      },
      "source": [
        "nn.Conv2d(in_channels=1, out_channels=20, kernel_size=5, stride=1)"
      ],
      "execution_count": 170,
      "outputs": [
        {
          "output_type": "execute_result",
          "data": {
            "text/plain": [
              "Conv2d(1, 20, kernel_size=(5, 5), stride=(1, 1))"
            ]
          },
          "metadata": {
            "tags": []
          },
          "execution_count": 170
        }
      ]
    },
    {
      "cell_type": "code",
      "metadata": {
        "id": "iWiJbViHjFG0",
        "colab": {
          "base_uri": "https://localhost:8080/"
        },
        "outputId": "8e75e258-9530-464c-fc0e-2bce7ee808e7"
      },
      "source": [
        "layer = nn.Conv2d(1,20,5,1).to(torch.device('cpu'))\n",
        "layer"
      ],
      "execution_count": 171,
      "outputs": [
        {
          "output_type": "execute_result",
          "data": {
            "text/plain": [
              "Conv2d(1, 20, kernel_size=(5, 5), stride=(1, 1))"
            ]
          },
          "metadata": {
            "tags": []
          },
          "execution_count": 171
        }
      ]
    },
    {
      "cell_type": "markdown",
      "metadata": {
        "id": "GxWYFm2xjUeN"
      },
      "source": [
        "- `wegiht`확인"
      ]
    },
    {
      "cell_type": "code",
      "metadata": {
        "id": "za0enRbyjPzV",
        "colab": {
          "base_uri": "https://localhost:8080/"
        },
        "outputId": "f4eb3ce6-55d3-4384-8ebe-6d4fd0564364"
      },
      "source": [
        "weight = layer.weight\n",
        "weight.shape"
      ],
      "execution_count": 172,
      "outputs": [
        {
          "output_type": "execute_result",
          "data": {
            "text/plain": [
              "torch.Size([20, 1, 5, 5])"
            ]
          },
          "metadata": {
            "tags": []
          },
          "execution_count": 172
        }
      ]
    },
    {
      "cell_type": "markdown",
      "metadata": {
        "id": "MAZcTU2gjiCX"
      },
      "source": [
        "- `weight`는 `detach()`를 통해 꺼내줘야 `numpy()`변환이 가능"
      ]
    },
    {
      "cell_type": "code",
      "metadata": {
        "id": "9eN_oUBkjT85"
      },
      "source": [
        "weight = weight.detach()"
      ],
      "execution_count": 173,
      "outputs": []
    },
    {
      "cell_type": "code",
      "metadata": {
        "id": "kwso9tsijmz8",
        "colab": {
          "base_uri": "https://localhost:8080/"
        },
        "outputId": "f344c768-e433-4bdf-9ecc-c395fa6b3f10"
      },
      "source": [
        "weight = weight.numpy()\n",
        "weight.shape"
      ],
      "execution_count": 174,
      "outputs": [
        {
          "output_type": "execute_result",
          "data": {
            "text/plain": [
              "(20, 1, 5, 5)"
            ]
          },
          "metadata": {
            "tags": []
          },
          "execution_count": 174
        }
      ]
    },
    {
      "cell_type": "code",
      "metadata": {
        "id": "mUegf6HPjdPl",
        "colab": {
          "base_uri": "https://localhost:8080/",
          "height": 262
        },
        "outputId": "c085f815-9b3d-427e-8ad1-b5597134762f"
      },
      "source": [
        "plt.imshow(weight[0,0,:,:], 'jet')\n",
        "plt.colorbar()\n",
        "plt.show()"
      ],
      "execution_count": 175,
      "outputs": [
        {
          "output_type": "display_data",
          "data": {
            "image/png": "[encoded data removed]",
            "text/plain": [
              "<Figure size 432x288 with 2 Axes>"
            ]
          },
          "metadata": {
            "tags": []
          }
        }
      ]
    },
    {
      "cell_type": "code",
      "metadata": {
        "id": "DMeTOqVmcdWa",
        "colab": {
          "base_uri": "https://localhost:8080/"
        },
        "outputId": "cf00cf02-1137-45da-96f1-774cb72e7de6"
      },
      "source": [
        "print(images.shape)"
      ],
      "execution_count": 176,
      "outputs": [
        {
          "output_type": "stream",
          "text": [
            "torch.Size([32, 1, 28, 28])\n"
          ],
          "name": "stdout"
        }
      ]
    },
    {
      "cell_type": "code",
      "metadata": {
        "id": "cvolnNsscdHs"
      },
      "source": [
        "input_image = torch.unsqueeze(images[0], dim=0)"
      ],
      "execution_count": 177,
      "outputs": []
    },
    {
      "cell_type": "code",
      "metadata": {
        "id": "NLOAfD5mjup1"
      },
      "source": [
        "output_data = layer(input_image)"
      ],
      "execution_count": 178,
      "outputs": []
    },
    {
      "cell_type": "code",
      "metadata": {
        "id": "r50wFkl6j1sY"
      },
      "source": [
        "output = output_data.data"
      ],
      "execution_count": 179,
      "outputs": []
    },
    {
      "cell_type": "code",
      "metadata": {
        "id": "ZiIp-frJj2Hl",
        "colab": {
          "base_uri": "https://localhost:8080/"
        },
        "outputId": "29300fc4-ff52-457b-d49b-1d306091196d"
      },
      "source": [
        "output_arr = output.numpy()\n",
        "output_arr.shape"
      ],
      "execution_count": 180,
      "outputs": [
        {
          "output_type": "execute_result",
          "data": {
            "text/plain": [
              "(1, 20, 24, 24)"
            ]
          },
          "metadata": {
            "tags": []
          },
          "execution_count": 180
        }
      ]
    },
    {
      "cell_type": "code",
      "metadata": {
        "id": "uOHMu-UQkW3a",
        "colab": {
          "base_uri": "https://localhost:8080/",
          "height": 306
        },
        "outputId": "d2045335-c611-4cb6-ea72-85aae3f11141"
      },
      "source": [
        "plt.figure(figsize=(15,30))\n",
        "plt.subplot(131)\n",
        "plt.imshow(image,'gray')\n",
        "plt.subplot(132)\n",
        "plt.title(\"Weight\")\n",
        "plt.imshow(weight[0,0,:,:],'jet')\n",
        "plt.subplot(133)\n",
        "plt.title(\"Output\")\n",
        "plt.imshow(output_arr[0,0,:,:], 'gray')\n",
        "plt.show()"
      ],
      "execution_count": 183,
      "outputs": [
        {
          "output_type": "display_data",
          "data": {
            "image/png": "[encoded data removed]",
            "text/plain": [
              "<Figure size 1080x2160 with 3 Axes>"
            ]
          },
          "metadata": {
            "tags": []
          }
        }
      ]
    },
    {
      "cell_type": "markdown",
      "metadata": {
        "id": "6sCqGmH_kwHm"
      },
      "source": [
        "### Pooling\n",
        "- `F.max_pool2d` \n",
        "  - `stride`\n",
        "\n",
        "  - `kernel_size`\n",
        "\n",
        "- `torch.nn.MaxPool2d` 도 많이 사용"
      ]
    },
    {
      "cell_type": "code",
      "metadata": {
        "id": "AYqPrLH1kxQl",
        "colab": {
          "base_uri": "https://localhost:8080/"
        },
        "outputId": "e4ff5edb-6456-4cf8-9035-dab0034b1fbf"
      },
      "source": [
        "image.shape"
      ],
      "execution_count": 184,
      "outputs": [
        {
          "output_type": "execute_result",
          "data": {
            "text/plain": [
              "(28, 28)"
            ]
          },
          "metadata": {
            "tags": []
          },
          "execution_count": 184
        }
      ]
    },
    {
      "cell_type": "code",
      "metadata": {
        "id": "tvI8W_8Yk81S"
      },
      "source": [
        ""
      ],
      "execution_count": null,
      "outputs": []
    },
    {
      "cell_type": "markdown",
      "metadata": {
        "id": "aV3HK4FulCaJ"
      },
      "source": [
        "- MaxPool Layer는 weight가 없기 때문에 바로 `numpy()`변환 가능"
      ]
    },
    {
      "cell_type": "code",
      "metadata": {
        "id": "fseB_qlflBta"
      },
      "source": [
        ""
      ],
      "execution_count": null,
      "outputs": []
    },
    {
      "cell_type": "code",
      "metadata": {
        "id": "6w8DQnNtlNCq"
      },
      "source": [
        ""
      ],
      "execution_count": null,
      "outputs": []
    },
    {
      "cell_type": "markdown",
      "metadata": {
        "id": "q7RVioKwlbH1"
      },
      "source": [
        "### Linear\n",
        "- 1d만 가능 `.view()`를 통해 1D로 펼쳐줘야함"
      ]
    },
    {
      "cell_type": "code",
      "metadata": {
        "id": "Kwcedadrlcbl"
      },
      "source": [
        ""
      ],
      "execution_count": null,
      "outputs": []
    },
    {
      "cell_type": "code",
      "metadata": {
        "id": "_mYQy4I3lmAm"
      },
      "source": [
        ""
      ],
      "execution_count": null,
      "outputs": []
    },
    {
      "cell_type": "code",
      "metadata": {
        "id": "6wgSmY0Zlofk"
      },
      "source": [
        ""
      ],
      "execution_count": null,
      "outputs": []
    },
    {
      "cell_type": "code",
      "metadata": {
        "id": "LcJFqf0alsxr"
      },
      "source": [
        ""
      ],
      "execution_count": null,
      "outputs": []
    },
    {
      "cell_type": "code",
      "metadata": {
        "id": "ewEpebSVluHz"
      },
      "source": [
        ""
      ],
      "execution_count": null,
      "outputs": []
    },
    {
      "cell_type": "markdown",
      "metadata": {
        "id": "0IjPKDKRl3CV"
      },
      "source": [
        "### Softmax"
      ]
    },
    {
      "cell_type": "code",
      "metadata": {
        "id": "obhBb3O-lzbs"
      },
      "source": [
        ""
      ],
      "execution_count": null,
      "outputs": []
    },
    {
      "cell_type": "code",
      "metadata": {
        "id": "ljgOEyNMmBEE"
      },
      "source": [
        ""
      ],
      "execution_count": null,
      "outputs": []
    },
    {
      "cell_type": "code",
      "metadata": {
        "id": "18ymFSRAmBo7"
      },
      "source": [
        ""
      ],
      "execution_count": null,
      "outputs": []
    },
    {
      "cell_type": "markdown",
      "metadata": {
        "id": "bYh13Bnj5wEN"
      },
      "source": [
        "### F.relu\n",
        "\n",
        "- ReLU 함수를 적용하는 레이어\n",
        "\n",
        "- `nn.ReLU`로도 사용 가능"
      ]
    },
    {
      "cell_type": "code",
      "metadata": {
        "id": "D4VFePpR9_Ak"
      },
      "source": [
        ""
      ],
      "execution_count": null,
      "outputs": []
    },
    {
      "cell_type": "code",
      "metadata": {
        "id": "1lKlSiaY5wZW"
      },
      "source": [
        ""
      ],
      "execution_count": null,
      "outputs": []
    },
    {
      "cell_type": "markdown",
      "metadata": {
        "id": "0yuABl4h-yye"
      },
      "source": [
        "## Optimizer\n",
        "\n",
        "- `import torch.optim as optim`\n",
        "\n",
        "- `model`의 파라미터를 업데이트\n",
        "\n",
        "- 예시)\n",
        "  ```python\n",
        "  optimizer = torch.optim.Adam(model.parameters(), lr=1e-4, weight_decay=1e-5)\n",
        "  optimizer = optim.SGD(model.parameters(), lr=0.001)\n",
        "  ```\n",
        "\n",
        "- `.zero_grad()`로 초기화\n",
        "- `.step()`으로 업데이트\n",
        "\n"
      ]
    }
  ]
}